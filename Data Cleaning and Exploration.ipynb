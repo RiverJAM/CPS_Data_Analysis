{
 "cells": [
  {
   "cell_type": "code",
   "execution_count": 1,
   "metadata": {},
   "outputs": [],
   "source": [
    "#import dependencies\n",
    "import pandas as pd\n",
    "import numpy as np\n",
    "import scipy.stats as st\n",
    "from matplotlib import pyplot as plt\n",
    "import math\n",
    "import warnings\n",
    "warnings.filterwarnings('ignore')\n",
    "%matplotlib inline"
   ]
  },
  {
   "cell_type": "code",
   "execution_count": 2,
   "metadata": {},
   "outputs": [],
   "source": [
    "#read in csv and merge\n",
    "salaries = pd.read_csv('Resources/salaries_06302020_high_school.csv')\n",
    "schools = pd.read_csv('Resources/School_Progress_Reports_SY1819_retention_rts.csv', encoding='iso-8859-1')\n",
    "combined_df = pd.merge(salaries, schools, on = \"School_ID\", how = \"left\")\n",
    "\n",
    "salaries2 = pd.read_csv('Resources/salaries_06302020_nbrhd_magnet_select.csv', encoding='latin-1')\n",
    "combined2_df = pd.merge(salaries2, schools, on = \"School_ID\", how = \"left\")"
   ]
  },
  {
   "cell_type": "code",
   "execution_count": 3,
   "metadata": {},
   "outputs": [],
   "source": [
    "#partition data by school type\n",
    "Magnet_high = combined2_df.loc[(combined2_df['School_Type']== \"Magnet\")]\n",
    "Selective_high = combined2_df.loc[(combined2_df['School_Type']== \"Selective enrollment\")]\n",
    "Neighborhood_sal = combined_df.loc[(combined_df['School_Type']== \"Neighborhood\")]\n"
   ]
  },
  {
   "cell_type": "code",
   "execution_count": null,
   "metadata": {},
   "outputs": [],
   "source": []
  }
 ],
 "metadata": {
  "kernelspec": {
   "display_name": "Python 3",
   "language": "python",
   "name": "python3"
  },
  "language_info": {
   "codemirror_mode": {
    "name": "ipython",
    "version": 3
   },
   "file_extension": ".py",
   "mimetype": "text/x-python",
   "name": "python",
   "nbconvert_exporter": "python",
   "pygments_lexer": "ipython3",
   "version": "3.8.3"
  }
 },
 "nbformat": 4,
 "nbformat_minor": 4
}
