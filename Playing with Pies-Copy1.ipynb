{
 "cells": [
  {
   "cell_type": "code",
   "execution_count": 1,
   "metadata": {},
   "outputs": [],
   "source": [
    "#import dependencies\n",
    "import pandas as pd\n",
    "import numpy as np\n",
    "import scipy.stats as st\n",
    "from matplotlib import pyplot as plt\n",
    "import math\n",
    "import warnings\n",
    "warnings.filterwarnings('ignore')\n",
    "%matplotlib inline\n",
    "import random\n",
    "from scipy.stats import sem"
   ]
  },
  {
   "cell_type": "code",
   "execution_count": 2,
   "metadata": {
    "scrolled": false
   },
   "outputs": [],
   "source": [
    "#read in csv and merge\n",
    "salaries = pd.read_csv('Resources/salaries_06302020_high_school.csv')\n",
    "schools = pd.read_csv('Resources/School_Progress_Reports_SY1819_retention_rts.csv', encoding='iso-8859-1')\n",
    "combined_df = pd.merge(salaries, schools, on = \"School_ID\", how = \"left\")\n",
    "\n",
    "salaries2 = pd.read_csv('Resources/salaries_06302020_nbrhd_magnet_select.csv', encoding='latin-1')\n",
    "combined2_df = pd.merge(salaries2, schools, on = \"School_ID\", how = \"left\")"
   ]
  },
  {
   "cell_type": "code",
   "execution_count": 3,
   "metadata": {},
   "outputs": [],
   "source": [
    "#partition data by school type\n",
    "Magnet_high = combined2_df.loc[(combined2_df['School_Type']== \"Magnet\")]\n",
    "Selective_high = combined2_df.loc[(combined2_df['School_Type']== \"Selective enrollment\")]\n",
    "Neighborhood_sal = combined_df.loc[(combined_df['School_Type']== \"Neighborhood\")]\n"
   ]
  },
  {
   "cell_type": "markdown",
   "metadata": {},
   "source": [
    "# Is teacher pay different at neighborhood schools than schools you need to test into?"
   ]
  },
  {
   "cell_type": "code",
   "execution_count": 4,
   "metadata": {
    "scrolled": true
   },
   "outputs": [],
   "source": [
    "selection_df = pd.concat([Selective_high,Magnet_high])"
   ]
  },
  {
   "cell_type": "code",
   "execution_count": 5,
   "metadata": {},
   "outputs": [
    {
     "data": {
      "text/plain": [
       "67985.0"
      ]
     },
     "execution_count": 5,
     "metadata": {},
     "output_type": "execute_result"
    }
   ],
   "source": [
    "Neighborhood_sal['FTE Annual Salary'].median()"
   ]
  },
  {
   "cell_type": "code",
   "execution_count": 6,
   "metadata": {},
   "outputs": [
    {
     "data": {
      "text/plain": [
       "70042.0"
      ]
     },
     "execution_count": 6,
     "metadata": {},
     "output_type": "execute_result"
    }
   ],
   "source": [
    "selection_df['FTE Annual Salary'].median()\n"
   ]
  },
  {
   "cell_type": "code",
   "execution_count": 7,
   "metadata": {
    "scrolled": true
   },
   "outputs": [
    {
     "name": "stdout",
     "output_type": "stream",
     "text": [
      "anova for salaries is F_onewayResult(statistic=0.7487487526265344, pvalue=0.38690511593004717)\n"
     ]
    }
   ],
   "source": [
    "group1 = Neighborhood_sal['FTE Annual Salary']\n",
    "group2 = selection_df['FTE Annual Salary']\n",
    "\n",
    "anova = st.f_oneway(group1, group2)\n",
    "print(f'anova for salaries is {anova}')"
   ]
  },
  {
   "cell_type": "markdown",
   "metadata": {},
   "source": [
    "# Is performance different at Charter Schools?"
   ]
  },
  {
   "cell_type": "code",
   "execution_count": 8,
   "metadata": {},
   "outputs": [
    {
     "data": {
      "text/plain": [
       "School_Type\n",
       "Charter                 65\n",
       "Magnet                   7\n",
       "Neighborhood            46\n",
       "Selective enrollment    11\n",
       "Name: School_ID, dtype: int64"
      ]
     },
     "execution_count": 8,
     "metadata": {},
     "output_type": "execute_result"
    }
   ],
   "source": [
    "schools.groupby(schools[\"School_Type\"])['School_ID'].count()"
   ]
  },
  {
   "cell_type": "code",
   "execution_count": 9,
   "metadata": {},
   "outputs": [
    {
     "data": {
      "text/html": [
       "<div>\n",
       "<style scoped>\n",
       "    .dataframe tbody tr th:only-of-type {\n",
       "        vertical-align: middle;\n",
       "    }\n",
       "\n",
       "    .dataframe tbody tr th {\n",
       "        vertical-align: top;\n",
       "    }\n",
       "\n",
       "    .dataframe thead th {\n",
       "        text-align: right;\n",
       "    }\n",
       "</style>\n",
       "<table border=\"1\" class=\"dataframe\">\n",
       "  <thead>\n",
       "    <tr style=\"text-align: right;\">\n",
       "      <th></th>\n",
       "      <th>Teacher_Retention</th>\n",
       "      <th>Growth_PSAT_Grade_9_School_Pct</th>\n",
       "      <th>Growth_PSAT_Reading_Grade_10_School_Pct</th>\n",
       "      <th>Growth_PSAT_Math_Grade_10_School_Pct</th>\n",
       "      <th>Growth_SAT_Grade_11_School_Pct</th>\n",
       "      <th>Attainment_SAT_Grade_11_School_Pct</th>\n",
       "      <th>Attainment_PSAT_Grade_10_School_Pct</th>\n",
       "      <th>Attainment_PSAT_Grade_9_School_Pct</th>\n",
       "      <th>Graduation_4_Year_School_Pct_Year_1</th>\n",
       "      <th>Graduation_4_Year_School_Pct_Year_2</th>\n",
       "      <th>Graduation_5_Year_School_Pct_Year_2</th>\n",
       "      <th>Graduation_5_Year_School_Pct_Year_1</th>\n",
       "    </tr>\n",
       "    <tr>\n",
       "      <th>School_Type</th>\n",
       "      <th></th>\n",
       "      <th></th>\n",
       "      <th></th>\n",
       "      <th></th>\n",
       "      <th></th>\n",
       "      <th></th>\n",
       "      <th></th>\n",
       "      <th></th>\n",
       "      <th></th>\n",
       "      <th></th>\n",
       "      <th></th>\n",
       "      <th></th>\n",
       "    </tr>\n",
       "  </thead>\n",
       "  <tbody>\n",
       "    <tr>\n",
       "      <th>Charter</th>\n",
       "      <td>0.453043</td>\n",
       "      <td>68.652174</td>\n",
       "      <td>88.391304</td>\n",
       "      <td>47.826087</td>\n",
       "      <td>68.956522</td>\n",
       "      <td>33.395652</td>\n",
       "      <td>41.626087</td>\n",
       "      <td>33.752174</td>\n",
       "      <td>78.043478</td>\n",
       "      <td>78.691304</td>\n",
       "      <td>81.456522</td>\n",
       "      <td>82.865217</td>\n",
       "    </tr>\n",
       "    <tr>\n",
       "      <th>Magnet</th>\n",
       "      <td>0.862500</td>\n",
       "      <td>48.250000</td>\n",
       "      <td>60.250000</td>\n",
       "      <td>23.500000</td>\n",
       "      <td>32.750000</td>\n",
       "      <td>36.475000</td>\n",
       "      <td>40.900000</td>\n",
       "      <td>42.475000</td>\n",
       "      <td>83.225000</td>\n",
       "      <td>80.100000</td>\n",
       "      <td>87.575000</td>\n",
       "      <td>83.950000</td>\n",
       "    </tr>\n",
       "    <tr>\n",
       "      <th>Neighborhood</th>\n",
       "      <td>0.844872</td>\n",
       "      <td>39.666667</td>\n",
       "      <td>68.564103</td>\n",
       "      <td>23.692308</td>\n",
       "      <td>27.051282</td>\n",
       "      <td>20.715385</td>\n",
       "      <td>25.584615</td>\n",
       "      <td>28.510256</td>\n",
       "      <td>67.987179</td>\n",
       "      <td>70.546154</td>\n",
       "      <td>72.153846</td>\n",
       "      <td>72.058974</td>\n",
       "    </tr>\n",
       "    <tr>\n",
       "      <th>Selective enrollment</th>\n",
       "      <td>0.913636</td>\n",
       "      <td>69.090909</td>\n",
       "      <td>62.363636</td>\n",
       "      <td>23.727273</td>\n",
       "      <td>50.545455</td>\n",
       "      <td>78.627273</td>\n",
       "      <td>85.418182</td>\n",
       "      <td>85.600000</td>\n",
       "      <td>92.854545</td>\n",
       "      <td>94.081818</td>\n",
       "      <td>94.772727</td>\n",
       "      <td>92.636364</td>\n",
       "    </tr>\n",
       "  </tbody>\n",
       "</table>\n",
       "</div>"
      ],
      "text/plain": [
       "                      Teacher_Retention  Growth_PSAT_Grade_9_School_Pct  \\\n",
       "School_Type                                                               \n",
       "Charter                        0.453043                       68.652174   \n",
       "Magnet                         0.862500                       48.250000   \n",
       "Neighborhood                   0.844872                       39.666667   \n",
       "Selective enrollment           0.913636                       69.090909   \n",
       "\n",
       "                      Growth_PSAT_Reading_Grade_10_School_Pct  \\\n",
       "School_Type                                                     \n",
       "Charter                                             88.391304   \n",
       "Magnet                                              60.250000   \n",
       "Neighborhood                                        68.564103   \n",
       "Selective enrollment                                62.363636   \n",
       "\n",
       "                      Growth_PSAT_Math_Grade_10_School_Pct  \\\n",
       "School_Type                                                  \n",
       "Charter                                          47.826087   \n",
       "Magnet                                           23.500000   \n",
       "Neighborhood                                     23.692308   \n",
       "Selective enrollment                             23.727273   \n",
       "\n",
       "                      Growth_SAT_Grade_11_School_Pct  \\\n",
       "School_Type                                            \n",
       "Charter                                    68.956522   \n",
       "Magnet                                     32.750000   \n",
       "Neighborhood                               27.051282   \n",
       "Selective enrollment                       50.545455   \n",
       "\n",
       "                      Attainment_SAT_Grade_11_School_Pct  \\\n",
       "School_Type                                                \n",
       "Charter                                        33.395652   \n",
       "Magnet                                         36.475000   \n",
       "Neighborhood                                   20.715385   \n",
       "Selective enrollment                           78.627273   \n",
       "\n",
       "                      Attainment_PSAT_Grade_10_School_Pct  \\\n",
       "School_Type                                                 \n",
       "Charter                                         41.626087   \n",
       "Magnet                                          40.900000   \n",
       "Neighborhood                                    25.584615   \n",
       "Selective enrollment                            85.418182   \n",
       "\n",
       "                      Attainment_PSAT_Grade_9_School_Pct  \\\n",
       "School_Type                                                \n",
       "Charter                                        33.752174   \n",
       "Magnet                                         42.475000   \n",
       "Neighborhood                                   28.510256   \n",
       "Selective enrollment                           85.600000   \n",
       "\n",
       "                      Graduation_4_Year_School_Pct_Year_1  \\\n",
       "School_Type                                                 \n",
       "Charter                                         78.043478   \n",
       "Magnet                                          83.225000   \n",
       "Neighborhood                                    67.987179   \n",
       "Selective enrollment                            92.854545   \n",
       "\n",
       "                      Graduation_4_Year_School_Pct_Year_2  \\\n",
       "School_Type                                                 \n",
       "Charter                                         78.691304   \n",
       "Magnet                                          80.100000   \n",
       "Neighborhood                                    70.546154   \n",
       "Selective enrollment                            94.081818   \n",
       "\n",
       "                      Graduation_5_Year_School_Pct_Year_2  \\\n",
       "School_Type                                                 \n",
       "Charter                                         81.456522   \n",
       "Magnet                                          87.575000   \n",
       "Neighborhood                                    72.153846   \n",
       "Selective enrollment                            94.772727   \n",
       "\n",
       "                      Graduation_5_Year_School_Pct_Year_1  \n",
       "School_Type                                                \n",
       "Charter                                         82.865217  \n",
       "Magnet                                          83.950000  \n",
       "Neighborhood                                    72.058974  \n",
       "Selective enrollment                            92.636364  "
      ]
     },
     "execution_count": 9,
     "metadata": {},
     "output_type": "execute_result"
    }
   ],
   "source": [
    "#Attainment / Grad / etc\n",
    "One_df = schools[[\"School_Type\", 'Long_Name', 'Growth_PSAT_Grade_9_School_Pct', 'Growth_PSAT_Reading_Grade_10_School_Pct', 'Growth_PSAT_Math_Grade_10_School_Pct','Growth_SAT_Grade_11_School_Pct','College_Enrollment_School_Pct_Year_1','College_Enrollment_School_Pct_Year_2', 'Teacher_Retention', 'Attainment_SAT_Grade_11_School_Pct', 'Attainment_PSAT_Grade_10_School_Pct', 'Attainment_PSAT_Grade_9_School_Pct', 'Graduation_4_Year_School_Pct_Year_1', 'Graduation_4_Year_School_Pct_Year_2', 'Graduation_5_Year_School_Pct_Year_2', 'Graduation_5_Year_School_Pct_Year_1']]\n",
    "One_df = One_df.dropna()\n",
    "One_df = One_df.loc[One_df[\"Teacher_Retention\"] != 'NAN']\n",
    "One_df['Teacher_Retention'] = pd.to_numeric(One_df['Teacher_Retention'])\n",
    "variables = ['Attainment_SAT_Grade_11_School_Pct', 'Attainment_PSAT_Grade_10_School_Pct', 'Attainment_PSAT_Grade_9_School_Pct', 'Graduation_4_Year_School_Pct_Year_1', 'Graduation_4_Year_School_Pct_Year_2', 'Graduation_5_Year_School_Pct_Year_2', 'Graduation_5_Year_School_Pct_Year_1','College_Enrollment_School_Pct_Year_1','College_Enrollment_School_Pct_Year_2']\n",
    "\n",
    "for var in variables:\n",
    "    One_df[var] = pd.to_numeric(One_df[var])\n",
    "Ret = One_df.groupby(One_df[\"School_Type\"])['Teacher_Retention', 'Growth_PSAT_Grade_9_School_Pct', 'Growth_PSAT_Reading_Grade_10_School_Pct', 'Growth_PSAT_Math_Grade_10_School_Pct','Growth_SAT_Grade_11_School_Pct','Attainment_SAT_Grade_11_School_Pct', 'Attainment_PSAT_Grade_10_School_Pct', 'Attainment_PSAT_Grade_9_School_Pct', 'Graduation_4_Year_School_Pct_Year_1', 'Graduation_4_Year_School_Pct_Year_2', 'Graduation_5_Year_School_Pct_Year_2', 'Graduation_5_Year_School_Pct_Year_1'].mean()\n",
    "Ret"
   ]
  },
  {
   "cell_type": "code",
   "execution_count": 63,
   "metadata": {},
   "outputs": [],
   "source": [
    "#partition data to creat df with only high school data\n",
    "high_school_data1 = schools.loc[(schools['Primary_Category']== \"HS\")]\n",
    "Charter_high = high_school_data1.loc[(high_school_data1['School_Type']== \"Charter\")]\n",
    "#partition data to creat df with only high school data\n",
    "Neighborhood_high = high_school_data1.loc[(high_school_data1['School_Type']== \"Neighborhood\")]\n",
    "NeighborhoodVChart_high = pd.merge(Neighborhood_high,Charter_high, how= \"outer\" )"
   ]
  },
  {
   "cell_type": "code",
   "execution_count": null,
   "metadata": {},
   "outputs": [],
   "source": [
    "bxp_df = NeighborhoodVChart_high[[\"School_Type\", \"Graduation_4_Year_School_Pct_Year_1\"]]\n",
    "bxp_df.boxplot(\"Graduation_4_Year_School_Pct_Year_1\", by = \"School_Type\", figsize =(10,10) , grid=False)\n",
    "plt.savefig(\"Grad41vST.png\")"
   ]
  },
  {
   "cell_type": "code",
   "execution_count": null,
   "metadata": {},
   "outputs": [],
   "source": [
    "bxp_df = NeighborhoodVChart_high[[\"School_Type\", \"Graduation_4_Year_School_Pct_Year_2\"]]\n",
    "bxp_df.boxplot(\"Graduation_4_Year_School_Pct_Year_2\", by = \"School_Type\", figsize =(10,10) , grid=False)\n",
    "plt.savefig(\"Grad42vST.png\")"
   ]
  },
  {
   "cell_type": "code",
   "execution_count": null,
   "metadata": {},
   "outputs": [],
   "source": [
    "bxp_df = NeighborhoodVChart_high[[\"School_Type\", \"Graduation_5_Year_School_Pct_Year_2\"]]\n",
    "bxp_df.boxplot(\"Graduation_5_Year_School_Pct_Year_2\", by = \"School_Type\", figsize =(10,10) , grid=False)\n",
    "plt.savefig(\"Grad52vST.png\")"
   ]
  },
  {
   "cell_type": "code",
   "execution_count": null,
   "metadata": {},
   "outputs": [],
   "source": []
  },
  {
   "cell_type": "code",
   "execution_count": 64,
   "metadata": {},
   "outputs": [
    {
     "data": {
      "image/png": "[encoded data removed]",
      "text/plain": [
       "<Figure size 720x720 with 1 Axes>"
      ]
     },
     "metadata": {
      "needs_background": "light"
     },
     "output_type": "display_data"
    }
   ],
   "source": [
    "bxp_df = NeighborhoodVChart_high[[\"School_Type\", \"Growth_PSAT_Math_Grade_10_School_Pct\"]]\n",
    "bxp_df.boxplot(\"Growth_PSAT_Math_Grade_10_School_Pct\", by = \"School_Type\", figsize =(10,10) , grid=False)\n",
    "plt.savefig(\"Growth10MathvST.png\")"
   ]
  },
  {
   "cell_type": "code",
   "execution_count": 65,
   "metadata": {},
   "outputs": [
    {
     "data": {
      "image/png": "[encoded data removed]",
      "text/plain": [
       "<Figure size 720x720 with 1 Axes>"
      ]
     },
     "metadata": {
      "needs_background": "light"
     },
     "output_type": "display_data"
    }
   ],
   "source": [
    "bxp_df = NeighborhoodVChart_high[[\"School_Type\", \"Growth_PSAT_Reading_Grade_10_School_Pct\"]]\n",
    "bxp_df.boxplot(\"Growth_PSAT_Reading_Grade_10_School_Pct\", by = \"School_Type\", figsize =(10,10) , grid=False)\n",
    "plt.savefig(\"Growth10ReadvST.png\")"
   ]
  },
  {
   "cell_type": "code",
   "execution_count": 66,
   "metadata": {},
   "outputs": [
    {
     "data": {
      "image/png": "[encoded data removed]",
      "text/plain": [
       "<Figure size 720x720 with 1 Axes>"
      ]
     },
     "metadata": {
      "needs_background": "light"
     },
     "output_type": "display_data"
    }
   ],
   "source": [
    "bxp_df = NeighborhoodVChart_high[[\"School_Type\", \"Growth_SAT_Grade_11_School_Pct\"]]\n",
    "bxp_df.boxplot(\"Growth_SAT_Grade_11_School_Pct\", by = \"School_Type\", figsize =(10,10) , grid=False)\n",
    "plt.savefig(\"Growth11vST.png\")"
   ]
  },
  {
   "cell_type": "code",
   "execution_count": 67,
   "metadata": {},
   "outputs": [
    {
     "data": {
      "image/png": "[encoded data removed]",
      "text/plain": [
       "<Figure size 720x720 with 1 Axes>"
      ]
     },
     "metadata": {
      "needs_background": "light"
     },
     "output_type": "display_data"
    }
   ],
   "source": [
    "bxp_df = NeighborhoodVChart_high[[\"School_Type\", \"Growth_PSAT_Grade_9_School_Pct\"]]\n",
    "bxp_df.boxplot(\"Growth_PSAT_Grade_9_School_Pct\", by = \"School_Type\", figsize =(10,10) , grid=False)\n",
    "plt.savefig(\"Growth9vST.png\")"
   ]
  },
  {
   "cell_type": "markdown",
   "metadata": {},
   "source": [
    "## Is there a significant diference in teacher retention between Charter and Neighborhood schools?\n",
    "null hypthesis: mu1 -mu2 = 0 \n",
    "alternative hypothesis mu1-mu2 =/ 0"
   ]
  },
  {
   "cell_type": "code",
   "execution_count": 35,
   "metadata": {},
   "outputs": [
    {
     "name": "stdout",
     "output_type": "stream",
     "text": [
      "mu1 is 0.844871794871795 and mu2 is 0.4530434782608695\n",
      "The confidence interval for Teacher Retention is from 0.615983390189514 and 0.16767324303233697\n"
     ]
    }
   ],
   "source": [
    "#Constructing a confidence interval\n",
    "#separating by school type\n",
    "Neighborhood_high = One_df.loc[(One_df['School_Type']== \"Neighborhood\")]\n",
    "Charter_high = One_df.loc[(One_df['School_Type']== \"Charter\")]\n",
    "#finding necessary values\n",
    "mu1 = Neighborhood_high['Teacher_Retention'].mean()\n",
    "std1 = Neighborhood_high['Teacher_Retention'].std()\n",
    "n1 = Neighborhood_high['Teacher_Retention'].count()\n",
    "mu2 = Charter_high['Teacher_Retention'].mean()\n",
    "std2 = Charter_high['Teacher_Retention'].std()\n",
    "n2 = Charter_high['Teacher_Retention'].count()\n",
    "\n",
    "#the smaller of the two is the df\n",
    "df = min(n1-1, n2-1)\n",
    "\n",
    "t_crit = st.t.ppf(.95,df)\n",
    "t_crit\n",
    "\n",
    "Confidence_interval_ub = (mu1-mu2)+ t_crit * math.sqrt((std1/n1)+(std2/n2))\n",
    "Confidence_interval_lb = (mu1-mu2)- t_crit * math.sqrt((std1/n1)+(std2/n2))\n",
    "\n",
    "print(f'mu1 is {mu1} and mu2 is {mu2}')\n",
    "print(f'The confidence interval for Teacher Retention is from {Confidence_interval_ub} and {Confidence_interval_lb}')\n",
    "\n",
    "\n"
   ]
  },
  {
   "cell_type": "code",
   "execution_count": 27,
   "metadata": {},
   "outputs": [],
   "source": [
    "One_df['Attainment_SAT_Grade_11_School_Pct'] = pd.to_numeric(One_df['Attainment_SAT_Grade_11_School_Pct'])\n",
    "Neighborhood_high = One_df.loc[(One_df['School_Type']== \"Neighborhood\")]"
   ]
  },
  {
   "cell_type": "code",
   "execution_count": 12,
   "metadata": {},
   "outputs": [
    {
     "name": "stdout",
     "output_type": "stream",
     "text": [
      "for Growth_PSAT_Grade_9_School_Pct mu1 is 39.666666666666664 and mu2 is 68.65217391304348\n",
      "The confidence interval for Growth_PSAT_Grade_9_School_Pct is from -26.522893081454527 to -31.448121411299113\n",
      "for Growth_PSAT_Reading_Grade_10_School_Pct mu1 is 68.56410256410257 and mu2 is 88.3913043478261\n",
      "The confidence interval for Growth_PSAT_Reading_Grade_10_School_Pct is from -18.204588380809213 to -21.449815186637835\n",
      "for Growth_PSAT_Math_Grade_10_School_Pct mu1 is 23.692307692307693 and mu2 is 47.82608695652174\n",
      "The confidence interval for Growth_PSAT_Math_Grade_10_School_Pct is from -22.072991108358984 to -26.194567420069113\n",
      "for Growth_SAT_Grade_11_School_Pct mu1 is 27.05128205128205 and mu2 is 68.95652173913044\n",
      "The confidence interval for Growth_SAT_Grade_11_School_Pct is from -39.52417103535019 to -44.28630834034658\n",
      "for Attainment_SAT_Grade_11_School_Pct mu1 is 20.715384615384615 and mu2 is 33.39565217391304\n",
      "The confidence interval for Attainment_SAT_Grade_11_School_Pct is from -10.593015216959397 to -14.767519900097458\n",
      "for Attainment_PSAT_Grade_10_School_Pct mu1 is 25.58461538461538 and mu2 is 41.62608695652174\n",
      "The confidence interval for Attainment_PSAT_Grade_10_School_Pct is from -13.946965758482998 to -18.135977385329724\n",
      "for Attainment_PSAT_Grade_9_School_Pct mu1 is 28.510256410256414 and mu2 is 33.752173913043485\n",
      "The confidence interval for Attainment_PSAT_Grade_9_School_Pct is from -3.2854834539893703 to -7.198351551584773\n",
      "for Graduation_4_Year_School_Pct_Year_1 mu1 is 67.98717948717946 and mu2 is 78.04347826086958\n",
      "The confidence interval for Graduation_4_Year_School_Pct_Year_1 is from -8.565904626112058 to -11.546692921268175\n",
      "for Graduation_4_Year_School_Pct_Year_2 mu1 is 70.54615384615383 and mu2 is 78.69130434782609\n",
      "The confidence interval for Graduation_4_Year_School_Pct_Year_2 is from -6.704187750800555 to -9.586113252543969\n",
      "for Graduation_5_Year_School_Pct_Year_2 mu1 is 72.15384615384616 and mu2 is 81.45652173913044\n",
      "The confidence interval for Graduation_5_Year_School_Pct_Year_2 is from -7.863147279804212 to -10.742203890764342\n",
      "for Graduation_5_Year_School_Pct_Year_1 mu1 is 72.05897435897434 and mu2 is 82.86521739130434\n",
      "The confidence interval for Graduation_5_Year_School_Pct_Year_1 is from -9.39443403969607 to -12.218052024963933\n",
      "for College_Enrollment_School_Pct_Year_1 mu1 is 53.50512820512821 and mu2 is 75.3826086956522\n",
      "The confidence interval for College_Enrollment_School_Pct_Year_1 is from -20.24363285350035 to -23.51132812754762\n",
      "for College_Enrollment_School_Pct_Year_2 mu1 is 62.81282051282051 and mu2 is 79.49565217391304\n",
      "The confidence interval for College_Enrollment_School_Pct_Year_2 is from -15.08303252815888 to -18.28263079402619\n"
     ]
    }
   ],
   "source": [
    "variables = ['Growth_PSAT_Grade_9_School_Pct', 'Growth_PSAT_Reading_Grade_10_School_Pct','Growth_PSAT_Math_Grade_10_School_Pct', 'Growth_SAT_Grade_11_School_Pct', 'Attainment_SAT_Grade_11_School_Pct', 'Attainment_PSAT_Grade_10_School_Pct', 'Attainment_PSAT_Grade_9_School_Pct', 'Graduation_4_Year_School_Pct_Year_1', 'Graduation_4_Year_School_Pct_Year_2', 'Graduation_5_Year_School_Pct_Year_2', 'Graduation_5_Year_School_Pct_Year_1','College_Enrollment_School_Pct_Year_1','College_Enrollment_School_Pct_Year_2']\n",
    "\n",
    "\n",
    "for var in variables: \n",
    "    mu1 = Neighborhood_high[var].mean()\n",
    "    std1 = Neighborhood_high[var].std()\n",
    "    n1 = Neighborhood_high[var].count()\n",
    "    mu2 = Charter_high[var].mean()\n",
    "    std2 = Charter_high[var].std()\n",
    "    n2 = Charter_high[var].count()\n",
    "\n",
    "    #the smaller of the two is the df\n",
    "    df = min(n1-1, n2-1)\n",
    "\n",
    "    t_crit = st.t.ppf(.95,df)\n",
    "    \n",
    "\n",
    "    Confidence_interval_ub = (mu1-mu2)+ t_crit * math.sqrt((std1/n1)+(std2/n2))\n",
    "    Confidence_interval_lb = (mu1-mu2)- t_crit * math.sqrt((std1/n1)+(std2/n2))\n",
    "\n",
    "    print(f'for {var} mu1 is {mu1} and mu2 is {mu2}')\n",
    "    print(f'The confidence interval for {var} is from {Confidence_interval_ub} to {Confidence_interval_lb}')\n",
    "\n",
    "#Keep line below"
   ]
  },
  {
   "cell_type": "code",
   "execution_count": 13,
   "metadata": {},
   "outputs": [
    {
     "name": "stdout",
     "output_type": "stream",
     "text": [
      "anova for Growth_PSAT_Grade_9_School_Pct is F_onewayResult(statistic=13.298462944898583, pvalue=0.0005572271801461254)\n",
      "anova for Growth_PSAT_Reading_Grade_10_School_Pct is F_onewayResult(statistic=27.959838163898223, pvalue=1.8280608471581803e-06)\n",
      "anova for Growth_PSAT_Math_Grade_10_School_Pct is F_onewayResult(statistic=24.50821127957191, pvalue=6.333755533621169e-06)\n",
      "anova for Growth_SAT_Grade_11_School_Pct is F_onewayResult(statistic=38.112095652490254, pvalue=6.292511118100102e-08)\n",
      "anova for Attainment_SAT_Grade_11_School_Pct is F_onewayResult(statistic=5.745039274157721, pvalue=0.019667153341529915)\n",
      "anova for Attainment_PSAT_Grade_10_School_Pct is F_onewayResult(statistic=8.352211156307629, pvalue=0.005354691394657638)\n",
      "anova for Attainment_PSAT_Grade_9_School_Pct is F_onewayResult(statistic=1.0171652077523146, pvalue=0.31724244926959705)\n",
      "anova for Graduation_4_Year_School_Pct_Year_1 is F_onewayResult(statistic=10.25873015423438, pvalue=0.002178333383983586)\n",
      "anova for Graduation_4_Year_School_Pct_Year_2 is F_onewayResult(statistic=7.324606780348357, pvalue=0.008843917907320793)\n",
      "anova for Graduation_5_Year_School_Pct_Year_2 is F_onewayResult(statistic=9.99310555789338, pvalue=0.002463620633065426)\n",
      "anova for Graduation_5_Year_School_Pct_Year_1 is F_onewayResult(statistic=13.761501692447917, pvalue=0.0004557565378673332)\n",
      "anova for College_Enrollment_School_Pct_Year_1 is F_onewayResult(statistic=41.62845677925302, pvalue=2.1348185814168383e-08)\n",
      "anova for College_Enrollment_School_Pct_Year_2 is F_onewayResult(statistic=25.66573146148237, pvalue=4.149603634533083e-06)\n"
     ]
    }
   ],
   "source": [
    "# Perform the ANOVA\n",
    "variables = ['Growth_PSAT_Grade_9_School_Pct', 'Growth_PSAT_Reading_Grade_10_School_Pct','Growth_PSAT_Math_Grade_10_School_Pct', 'Growth_SAT_Grade_11_School_Pct','Attainment_SAT_Grade_11_School_Pct', 'Attainment_PSAT_Grade_10_School_Pct', 'Attainment_PSAT_Grade_9_School_Pct', 'Graduation_4_Year_School_Pct_Year_1', 'Graduation_4_Year_School_Pct_Year_2', 'Graduation_5_Year_School_Pct_Year_2', 'Graduation_5_Year_School_Pct_Year_1','College_Enrollment_School_Pct_Year_1','College_Enrollment_School_Pct_Year_2']\n",
    "\n",
    "for var in variables:\n",
    "    group1 = Neighborhood_high[var]\n",
    "    group2 = Charter_high[var]\n",
    "    anova = st.f_oneway(group1, group2)\n",
    "    print(f'anova for {var} is {anova}')"
   ]
  },
  {
   "cell_type": "markdown",
   "metadata": {},
   "source": [
    "## Attainment in Neighborhood Schools v Salary\n",
    "Does Teacher Salary predict test scores?\n",
    "# Hypotheses\n",
    "Null Hypothesis: Teacher Salary will have no effect on Test Scores.\n",
    "Alternative Hypothesis: Teacher Salary doesn't have no effect on Test Scores."
   ]
  },
  {
   "cell_type": "code",
   "execution_count": 14,
   "metadata": {},
   "outputs": [
    {
     "name": "stdout",
     "output_type": "stream",
     "text": [
      "The correlation is 0.25529770106550764\n"
     ]
    },
    {
     "data": {
      "image/png": "[encoded data removed]",
      "text/plain": [
       "<Figure size 432x288 with 1 Axes>"
      ]
     },
     "metadata": {
      "needs_background": "light"
     },
     "output_type": "display_data"
    }
   ],
   "source": [
    "#11th Grade Data\n",
    "#Make 11th grade_df\n",
    "ele_df = combined_df[[ 'Department' , 'FTE Annual Salary', 'Attainment_SAT_Grade_11_School_Pct', ]]\n",
    "cleaned_df = ele_df.dropna()\n",
    "x_values = cleaned_df.groupby(cleaned_df['Department']).mean()['FTE Annual Salary']\n",
    "y_values = cleaned_df.groupby(cleaned_df['Department']).mean()['Attainment_SAT_Grade_11_School_Pct']\n",
    "plt.scatter(x_values, y_values)\n",
    "plt.xlabel('FTE Annual Salary')\n",
    "plt.ylabel('Attainment_SAT_Grade_11_School_Pct')\n",
    "plt.title('SAT v Salary')\n",
    "# Perform a linear regression on Annual Salary versus 11th Grade SAT Attainment\n",
    "vc_slope, vc_int, vc_r, vc_p, vc_std_err = st.linregress(x_values, y_values)\n",
    "# Create equation of line to calculate predicted 11th Grade SAT Attainment\n",
    "vc_fit = vc_slope * x_values + vc_int\n",
    "#plot regression line\n",
    "plt.plot(x_values,vc_fit,\"--\")\n",
    "\n",
    "correlation = st.pearsonr(x_values, y_values)\n",
    "print(f'The correlation is {correlation[0]}')"
   ]
  },
  {
   "cell_type": "code",
   "execution_count": 15,
   "metadata": {},
   "outputs": [
    {
     "name": "stdout",
     "output_type": "stream",
     "text": [
      "The correlation is 0.24210084279894326\n"
     ]
    },
    {
     "data": {
      "image/png": "[encoded data removed]",
      "text/plain": [
       "<Figure size 432x288 with 1 Axes>"
      ]
     },
     "metadata": {
      "needs_background": "light"
     },
     "output_type": "display_data"
    }
   ],
   "source": [
    "#10th Grade Data\n",
    "#Make 11th grade_df\n",
    "ele_df = combined_df[[ 'Department' , 'FTE Annual Salary', 'Attainment_PSAT_Grade_10_School_Pct']]\n",
    "cleaned_df = ele_df.dropna()\n",
    "x_values = cleaned_df.groupby(cleaned_df['Department']).mean()['FTE Annual Salary']\n",
    "y_values = cleaned_df.groupby(cleaned_df['Department']).mean()['Attainment_PSAT_Grade_10_School_Pct']\n",
    "plt.scatter(x_values, y_values)\n",
    "plt.xlabel('FTE Annual Salary')\n",
    "plt.ylabel('Attainment_PSAT_Grade_10_School_Pct')\n",
    "plt.title('PSAT v Salary')\n",
    "# Perform a linear regression on Annual Salary versus 11th Grade SAT Attainment\n",
    "vc_slope, vc_int, vc_r, vc_p, vc_std_err = st.linregress(x_values, y_values)\n",
    "# Create equation of line to calculate predicted 11th Grade SAT Attainment\n",
    "vc_fit = vc_slope * x_values + vc_int\n",
    "#plot regression line\n",
    "plt.plot(x_values,vc_fit,\"--\")\n",
    "\n",
    "correlation = st.pearsonr(x_values, y_values)\n",
    "print(f'The correlation is {correlation[0]}')"
   ]
  },
  {
   "cell_type": "code",
   "execution_count": 16,
   "metadata": {},
   "outputs": [
    {
     "name": "stdout",
     "output_type": "stream",
     "text": [
      "The correlation is 0.26631266450384394\n"
     ]
    },
    {
     "data": {
      "image/png": "[encoded data removed]",
      "text/plain": [
       "<Figure size 432x288 with 1 Axes>"
      ]
     },
     "metadata": {
      "needs_background": "light"
     },
     "output_type": "display_data"
    }
   ],
   "source": [
    "# 9th grade data\n",
    "ten_df = combined_df[[ 'Department' , 'FTE Annual Salary', 'Attainment_PSAT_Grade_9_School_Pct']]\n",
    "cleaned_df = ten_df.dropna()\n",
    "x_values = cleaned_df.groupby(cleaned_df['Department']).mean()['FTE Annual Salary']\n",
    "y_values = cleaned_df.groupby(cleaned_df['Department']).mean()['Attainment_PSAT_Grade_9_School_Pct']\n",
    "plt.scatter(x_values, y_values)\n",
    "plt.xlabel('FTE Annual Salary')\n",
    "plt.ylabel('Attainment_PSAT_Grade_9_School_Pct')\n",
    "plt.title('PSAT v Salary')\n",
    "# Perform a linear regression on Annual Salary versus 11th Grade SAT Attainment\n",
    "vc_slope, vc_int, vc_r, vc_p, vc_std_err = st.linregress(x_values, y_values)\n",
    "# Create equation of line to calculate predicted 11th Grade SAT Attainment\n",
    "vc_fit = vc_slope * x_values + vc_int\n",
    "#plot regression line\n",
    "plt.plot(x_values,vc_fit,\"--\")\n",
    "\n",
    "correlation = st.pearsonr(x_values, y_values)\n",
    "print(f'The correlation is {correlation[0]}')"
   ]
  },
  {
   "cell_type": "markdown",
   "metadata": {},
   "source": [
    "# Will teacher salaries predict college enrollment?"
   ]
  },
  {
   "cell_type": "code",
   "execution_count": 17,
   "metadata": {},
   "outputs": [
    {
     "name": "stdout",
     "output_type": "stream",
     "text": [
      "The correlation is 0.3339362189282251\n"
     ]
    },
    {
     "data": {
      "image/png": "[encoded data removed]",
      "text/plain": [
       "<Figure size 432x288 with 1 Axes>"
      ]
     },
     "metadata": {
      "needs_background": "light"
     },
     "output_type": "display_data"
    }
   ],
   "source": [
    "# 9th grade data\n",
    "ten_df = combined_df[[ 'Department' , 'FTE Annual Salary', 'College_Enrollment_School_Pct_Year_1']]\n",
    "cleaned_df = ten_df.dropna()\n",
    "x_values = cleaned_df.groupby(cleaned_df['Department']).mean()['FTE Annual Salary']\n",
    "y_values = cleaned_df.groupby(cleaned_df['Department']).mean()['College_Enrollment_School_Pct_Year_1']\n",
    "plt.scatter(x_values, y_values)\n",
    "plt.xlabel('FTE Annual Salary')\n",
    "plt.ylabel('College_Enrollment_School_Pct_Year_1')\n",
    "plt.title('PSAT v Salary')\n",
    "# Perform a linear regression on Annual Salary versus 11th Grade SAT Attainment\n",
    "vc_slope, vc_int, vc_r, vc_p, vc_std_err = st.linregress(x_values, y_values)\n",
    "# Create equation of line to calculate predicted 11th Grade SAT Attainment\n",
    "vc_fit = vc_slope * x_values + vc_int\n",
    "#plot regression line\n",
    "plt.plot(x_values,vc_fit,\"--\")\n",
    "\n",
    "correlation = st.pearsonr(x_values, y_values)\n",
    "print(f'The correlation is {correlation[0]}')"
   ]
  },
  {
   "cell_type": "code",
   "execution_count": 18,
   "metadata": {},
   "outputs": [
    {
     "name": "stdout",
     "output_type": "stream",
     "text": [
      "The correlation is 0.2739568014907354\n"
     ]
    },
    {
     "data": {
      "image/png": "[encoded data removed]",
      "text/plain": [
       "<Figure size 432x288 with 1 Axes>"
      ]
     },
     "metadata": {
      "needs_background": "light"
     },
     "output_type": "display_data"
    }
   ],
   "source": [
    "# 9th grade data\n",
    "ten_df = combined_df[[ 'Department' , 'FTE Annual Salary', 'College_Enrollment_School_Pct_Year_2']]\n",
    "cleaned_df = ten_df.dropna()\n",
    "x_values = cleaned_df.groupby(cleaned_df['Department']).mean()['FTE Annual Salary']\n",
    "y_values = cleaned_df.groupby(cleaned_df['Department']).mean()['College_Enrollment_School_Pct_Year_2']\n",
    "plt.scatter(x_values, y_values)\n",
    "plt.xlabel('FTE Annual Salary')\n",
    "plt.ylabel('College_Enrollment_School_Pct_Year_2')\n",
    "plt.title('PSAT v Salary')\n",
    "# Perform a linear regression on Annual Salary versus 11th Grade SAT Attainment\n",
    "vc_slope, vc_int, vc_r, vc_p, vc_std_err = st.linregress(x_values, y_values)\n",
    "# Create equation of line to calculate predicted 11th Grade SAT Attainment\n",
    "vc_fit = vc_slope * x_values + vc_int\n",
    "#plot regression line\n",
    "plt.plot(x_values,vc_fit,\"--\")\n",
    "\n",
    "correlation = st.pearsonr(x_values, y_values)\n",
    "print(f'The correlation is {correlation[0]}')"
   ]
  },
  {
   "cell_type": "markdown",
   "metadata": {},
   "source": [
    "# Will teacher salaries predict graduation rates?"
   ]
  },
  {
   "cell_type": "code",
   "execution_count": 19,
   "metadata": {},
   "outputs": [
    {
     "name": "stdout",
     "output_type": "stream",
     "text": [
      "The correlation is 0.3022533224046132\n"
     ]
    },
    {
     "data": {
      "image/png": "[encoded data removed]",
      "text/plain": [
       "<Figure size 432x288 with 1 Axes>"
      ]
     },
     "metadata": {
      "needs_background": "light"
     },
     "output_type": "display_data"
    }
   ],
   "source": [
    "ten_df = combined_df[[ 'Department' , 'FTE Annual Salary', 'Graduation_5_Year_School_Pct_Year_1']]\n",
    "cleaned_df = ten_df.dropna()\n",
    "x_values = cleaned_df.groupby(cleaned_df['Department']).mean()['FTE Annual Salary']\n",
    "y_values = cleaned_df.groupby(cleaned_df['Department']).mean()['Graduation_5_Year_School_Pct_Year_1']\n",
    "plt.scatter(x_values, y_values)\n",
    "plt.xlabel('FTE Annual Salary')\n",
    "plt.ylabel('Graduation_5_Year_School_Pct_Year_1')\n",
    "plt.title('PSAT v Salary')\n",
    "# Perform a linear regression on Annual Salary versus 11th Grade SAT Attainment\n",
    "vc_slope, vc_int, vc_r, vc_p, vc_std_err = st.linregress(x_values, y_values)\n",
    "# Create equation of line to calculate predicted 11th Grade SAT Attainment\n",
    "vc_fit = vc_slope * x_values + vc_int\n",
    "#plot regression line\n",
    "plt.plot(x_values,vc_fit,\"--\")\n",
    "\n",
    "correlation = st.pearsonr(x_values, y_values)\n",
    "print(f'The correlation is {correlation[0]}')"
   ]
  },
  {
   "cell_type": "code",
   "execution_count": 20,
   "metadata": {},
   "outputs": [
    {
     "name": "stdout",
     "output_type": "stream",
     "text": [
      "The correlation is 0.30676443567574885\n"
     ]
    },
    {
     "data": {
      "image/png": "[encoded data removed]",
      "text/plain": [
       "<Figure size 432x288 with 1 Axes>"
      ]
     },
     "metadata": {
      "needs_background": "light"
     },
     "output_type": "display_data"
    }
   ],
   "source": [
    "ten_df = combined_df[[ 'Department' , 'FTE Annual Salary', 'Graduation_4_Year_School_Pct_Year_1']]\n",
    "cleaned_df = ten_df.dropna()\n",
    "x_values = cleaned_df.groupby(cleaned_df['Department']).mean()['FTE Annual Salary']\n",
    "y_values = cleaned_df.groupby(cleaned_df['Department']).mean()['Graduation_4_Year_School_Pct_Year_1']\n",
    "plt.scatter(x_values, y_values)\n",
    "plt.xlabel('FTE Annual Salary')\n",
    "plt.ylabel('Graduation_4_Year_School_Pct_Year_1')\n",
    "plt.title('PSAT v Salary')\n",
    "# Perform a linear regression on Annual Salary versus 11th Grade SAT Attainment\n",
    "vc_slope, vc_int, vc_r, vc_p, vc_std_err = st.linregress(x_values, y_values)\n",
    "# Create equation of line to calculate predicted 11th Grade SAT Attainment\n",
    "vc_fit = vc_slope * x_values + vc_int\n",
    "#plot regression line\n",
    "plt.plot(x_values,vc_fit,\"--\")\n",
    "\n",
    "correlation = st.pearsonr(x_values, y_values)\n",
    "print(f'The correlation is {correlation[0]}')"
   ]
  },
  {
   "cell_type": "code",
   "execution_count": null,
   "metadata": {},
   "outputs": [],
   "source": []
  },
  {
   "cell_type": "code",
   "execution_count": null,
   "metadata": {},
   "outputs": [],
   "source": []
  },
  {
   "cell_type": "code",
   "execution_count": null,
   "metadata": {},
   "outputs": [],
   "source": []
  },
  {
   "cell_type": "code",
   "execution_count": null,
   "metadata": {},
   "outputs": [],
   "source": []
  },
  {
   "cell_type": "code",
   "execution_count": null,
   "metadata": {},
   "outputs": [],
   "source": []
  }
 ],
 "metadata": {
  "kernelspec": {
   "display_name": "Python 3",
   "language": "python",
   "name": "python3"
  },
  "language_info": {
   "codemirror_mode": {
    "name": "ipython",
    "version": 3
   },
   "file_extension": ".py",
   "mimetype": "text/x-python",
   "name": "python",
   "nbconvert_exporter": "python",
   "pygments_lexer": "ipython3",
   "version": "3.8.3"
  }
 },
 "nbformat": 4,
 "nbformat_minor": 4
}
