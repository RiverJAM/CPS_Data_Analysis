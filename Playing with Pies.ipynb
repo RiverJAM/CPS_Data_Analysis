{
 "cells": [
  {
   "cell_type": "code",
   "execution_count": 1,
   "metadata": {},
   "outputs": [],
   "source": [
    "import pandas as pd\n",
    "import numpy as np\n",
    "import scipy.stats as st\n",
    "from matplotlib import pyplot as plt\n",
    "import math\n",
    "import warnings\n",
    "warnings.filterwarnings('ignore')\n",
    "%matplotlib inline"
   ]
  },
  {
   "cell_type": "code",
   "execution_count": 2,
   "metadata": {
    "scrolled": false
   },
   "outputs": [
    {
     "data": {
      "text/plain": [
       "['Pos #',\n",
       " 'Dept ID',\n",
       " 'School_ID',\n",
       " 'Department',\n",
       " 'FTE',\n",
       " 'ClsIndc',\n",
       " 'Annual Salary',\n",
       " 'FTE Annual Salary',\n",
       " 'Annual Benefit Cost',\n",
       " 'JobCode',\n",
       " 'Job Title',\n",
       " 'Name',\n",
       " 'Teacher_Retention',\n",
       " 'Short_Name',\n",
       " 'Long_Name',\n",
       " 'School_Type',\n",
       " 'Primary_Category',\n",
       " 'Address',\n",
       " 'City',\n",
       " 'State',\n",
       " 'Zip',\n",
       " 'Phone',\n",
       " 'Fax',\n",
       " 'CPS_School_Profile',\n",
       " 'Website',\n",
       " 'Progress_Report_Year',\n",
       " 'Blue_Ribbon_Award_Year',\n",
       " 'Excelerate_Award_Gold_Year',\n",
       " 'Spot_Light_Award_Year',\n",
       " 'Improvement_Award_Year',\n",
       " 'Excellence_Award_Year',\n",
       " 'Student_Growth_Rating',\n",
       " 'Student_Growth_Description',\n",
       " 'Growth_Reading_Grades_Tested_Pct_ES',\n",
       " 'Growth_Reading_Grades_Tested_Label_ES',\n",
       " 'Growth_Math_Grades_Tested_Pct_ES',\n",
       " 'Growth_Math_Grades_Tested_Label_ES',\n",
       " 'Student_Attainment_Rating',\n",
       " 'Student_Attainment_Description',\n",
       " 'Attainment_Reading_Pct_ES',\n",
       " 'Attainment_Reading_Lbl_ES',\n",
       " 'Attainment_Math_Pct_ES',\n",
       " 'Attainment_Math_Lbl_ES',\n",
       " 'Culture_Climate_Rating',\n",
       " 'Culture_Climate_Description',\n",
       " 'School_Survey_Student_Response_Rate_Pct',\n",
       " 'School_Survey_Student_Response_Rate_Avg_Pct',\n",
       " 'School_Survey_Teacher_Response_Rate_Pct',\n",
       " 'School_Survey_Teacher_Response_Rate_Avg_Pct',\n",
       " 'School_Survey_Parent_Response_Rate_Pct',\n",
       " 'School_Survey_Parent_Response_Rate_Avg_Pct',\n",
       " 'Healthy_School_Certification',\n",
       " 'Healthy_School_Certification_Description',\n",
       " 'Creative_School_Certification',\n",
       " 'Creative_School_Certification_Description',\n",
       " 'NWEA_Reading_Growth_Grade_3_Pct',\n",
       " 'NWEA_Reading_Growth_Grade_3_Lbl',\n",
       " 'NWEA_Reading_Growth_Grade_4_Pct',\n",
       " 'NWEA_Reading_Growth_Grade_4_Lbl',\n",
       " 'NWEA_Reading_Growth_Grade_5_Pct',\n",
       " 'NWEA_Reading_Growth_Grade_5_Lbl',\n",
       " 'NWEA_Reading_Growth_Grade_6_Pct',\n",
       " 'NWEA_Reading_Growth_Grade_6_Lbl',\n",
       " 'NWEA_Reading_Growth_Grade_7_Pct',\n",
       " 'NWEA_Reading_Growth_Grade_7_Lbl',\n",
       " 'NWEA_Reading_Growth_Grade_8_Pct',\n",
       " 'NWEA_Reading_Growth_Grade_8_Lbl',\n",
       " 'NWEA_Math_Growth_Grade_3_Pct',\n",
       " 'NWEA_Math_Growth_Grade_3_Lbl',\n",
       " 'NWEA_Math_Growth_Grade_4_Pct',\n",
       " 'NWEA_Math_Growth_Grade_4_Lbl',\n",
       " 'NWEA_Math_Growth_Grade_5_Pct',\n",
       " 'NWEA_Math_Growth_Grade_5_Lbl',\n",
       " 'NWEA_Math_Growth_Grade_6_Pct',\n",
       " 'NWEA_Math_Growth_Grade_6_Lbl',\n",
       " 'NWEA_Math_Growth_Grade_7_Pct',\n",
       " 'NWEA_Math_Growth_Grade_7_Lbl',\n",
       " 'NWEA_Math_Growth_Grade_8_Pct',\n",
       " 'NWEA_Math_Growth_Grade_8_Lbl',\n",
       " 'NWEA_Reading_Attainment_Grade_2_Pct',\n",
       " 'NWEA_Reading_Attainment_Grade_2_Lbl',\n",
       " 'NWEA_Reading_Attainment_Grade_3_Pct',\n",
       " 'NWEA_Reading_Attainment_Grade_3_Lbl',\n",
       " 'NWEA_Reading_Attainment_Grade_4_Pct',\n",
       " 'NWEA_Reading_Attainment_Grade_4_Lbl',\n",
       " 'NWEA_Reading_Attainment_Grade_5_Pct',\n",
       " 'NWEA_Reading_Attainment_Grade_5_Lbl',\n",
       " 'NWEA_Reading_Attainment_Grade_6_Pct',\n",
       " 'NWEA_Reading_Attainment_Grade_6_Lbl',\n",
       " 'NWEA_Reading_Attainment_Grade_7_Pct',\n",
       " 'NWEA_Reading_Attainment_Grade_7_Lbl',\n",
       " 'NWEA_Reading_Attainment_Grade_8_Pct',\n",
       " 'NWEA_Reading_Attainment_Grade_8_Lbl',\n",
       " 'NWEA_Math_Attainment_Grade_2_Pct',\n",
       " 'NWEA_Math_Attainment_Grade_2_Lbl',\n",
       " 'NWEA_Math_Attainment_Grade_3_Pct',\n",
       " 'NWEA_Math_Attainment_Grade_3_Lbl',\n",
       " 'NWEA_Math_Attainment_Grade_4_Pct',\n",
       " 'NWEA_Math_Attainment_Grade_4_Lbl',\n",
       " 'NWEA_Math_Attainment_Grade_5_Pct',\n",
       " 'NWEA_Math_Attainment_Grade_5_Lbl',\n",
       " 'NWEA_Math_Attainment_Grade_6_Pct',\n",
       " 'NWEA_Math_Attainment_Grade_6_Lbl',\n",
       " 'NWEA_Math_Attainment_Grade_7_Pct',\n",
       " 'NWEA_Math_Attainment_Grade_7_Lbl',\n",
       " 'NWEA_Math_Attainment_Grade_8_Pct',\n",
       " 'NWEA_Math_Attainment_Grade_8_Lbl',\n",
       " 'School_Survey_Involved_Families',\n",
       " 'School_Survey_Supportive_Environment',\n",
       " 'School_Survey_Ambitious_Instruction',\n",
       " 'School_Survey_Effective_Leaders',\n",
       " 'School_Survey_Collaborative_Teachers',\n",
       " 'School_Survey_Safety',\n",
       " 'Suspensions_Per_100_Students_Year_1_Pct',\n",
       " 'Suspensions_Per_100_Students_Year_2_Pct',\n",
       " 'Suspensions_Per_100_Students_Avg_Pct',\n",
       " 'Misconducts_To_Suspensions_Year_1_Pct',\n",
       " 'Misconducts_To_Suspensions_Year_2_Pct',\n",
       " 'Misconducts_To_Suspensions_Avg_Pct',\n",
       " 'Average_Length_Suspension_Year_1_Pct',\n",
       " 'Average_Length_Suspension_Year_2_Pct',\n",
       " 'Average_Length_Suspension_Avg_Pct',\n",
       " 'Behavior_Discipline_Year_1',\n",
       " 'Behavior_Discipline_Year_2',\n",
       " 'School_Survey_School_Community',\n",
       " 'School_Survey_Parent_Teacher_Partnership',\n",
       " 'School_Survey_Quality_Of_Facilities',\n",
       " 'Student_Attendance_Year_1_Pct',\n",
       " 'Student_Attendance_Year_2_Pct',\n",
       " 'Student_Attendance_Avg_Pct',\n",
       " 'Teacher_Attendance_Year_1_Pct',\n",
       " 'Teacher_Attendance_Year_2_Pct',\n",
       " 'Teacher_Attendance_Avg_Pct',\n",
       " 'One_Year_Dropout_Rate_Year_1_Pct',\n",
       " 'One_Year_Dropout_Rate_Year_2_Pct',\n",
       " 'One_Year_Dropout_Rate_Avg_Pct',\n",
       " 'Other_Metrics_Year_1',\n",
       " 'Other_Metrics_Year_2',\n",
       " 'Freshmen_On_Track_School_Pct_Year_2',\n",
       " 'Freshmen_On_Track_CPS_Pct_Year_2',\n",
       " 'Freshmen_On_Track_School_Pct_Year_1',\n",
       " 'Freshmen_On_Track_CPS_Pct_Year_1',\n",
       " 'Graduation_4_Year_School_Pct_Year_2',\n",
       " 'Graduation_4_Year_CPS_Pct_Year_2',\n",
       " 'Graduation_4_Year_School_Pct_Year_1',\n",
       " 'Graduation_4_Year_CPS_Pct_Year_1',\n",
       " 'Graduation_5_Year_School_Pct_Year_2',\n",
       " 'Graduation_5_Year_CPS_Pct_Year_2',\n",
       " 'Graduation_5_Year_School_Pct_Year_1',\n",
       " 'Graduation_5_Year_CPS_Pct_Year_1',\n",
       " 'College_Enrollment_School_Pct_Year_2',\n",
       " 'College_Enrollment_CPS_Pct_Year_2',\n",
       " 'College_Enrollment_School_Pct_Year_1',\n",
       " 'College_Enrollment_CPS_Pct_Year_1',\n",
       " 'College_Persistence_School_Pct_Year_2',\n",
       " 'College_Persistence_CPS_Pct_Year_2',\n",
       " 'College_Persistence_School_Pct_Year_1',\n",
       " 'College_Persistence_CPS_Pct_Year_1',\n",
       " 'Progress_Toward_Graduation_Year_1',\n",
       " 'Progress_Toward_Graduation_Year_2',\n",
       " 'State_School_Report_Card_URL',\n",
       " 'Mobility_Rate_Pct',\n",
       " 'Chronic_Truancy_Pct',\n",
       " 'Empty_Progress_Report_Message',\n",
       " 'School_Survey_Rating_Description',\n",
       " 'Supportive_School_Award',\n",
       " 'Supportive_School_Award_Desc',\n",
       " 'Parent_Survey_Results_Year',\n",
       " 'School_Latitude',\n",
       " 'School_Longitude',\n",
       " 'PSAT_Grade_9_Score_School_Avg',\n",
       " 'PSAT_Grade_10_Score_School_Avg',\n",
       " 'SAT_Grade_11_Score_School_Avg',\n",
       " 'SAT_Grade_11_Score_CPS_Avg',\n",
       " 'Growth_PSAT_Grade_9_School_Pct',\n",
       " 'Growth_PSAT_Grade_9_School_Lbl',\n",
       " 'Growth_PSAT_Reading_Grade_10_School_Pct',\n",
       " 'Growth_PSAT_Reading_Grade_10_School_Lbl',\n",
       " 'Growth_SAT_Grade_11_School_Pct',\n",
       " 'Growth_SAT_Grade_11_School_Lbl',\n",
       " 'Attainment_PSAT_Grade_9_School_Pct',\n",
       " 'Attainment_PSAT_Grade_9_School_Lbl',\n",
       " 'Attainment_PSAT_Grade_10_School_Pct',\n",
       " 'Attainment_PSAT_Grade_10_School_Lbl',\n",
       " 'Attainment_SAT_Grade_11_School_Pct',\n",
       " 'Attainment_SAT_Grade_11_School_Lbl',\n",
       " 'Attainment_All_Grades_School_Pct',\n",
       " 'Attainment_All_Grades_School_Lbl',\n",
       " 'Growth_PSAT_Math_Grade_10_School_Pct',\n",
       " 'Growth_PSAT_Math_Grade_10_School_Lbl',\n",
       " 'Growth_SAT_Reading_Grade_11_School_Pct',\n",
       " 'Growth_SAT_Reading_Grade_11_School_Lbl',\n",
       " 'Growth_SAT_Math_Grade_11_School_Pct',\n",
       " 'Growth_SAT_Math_Grade_11_School_Lbl']"
      ]
     },
     "execution_count": 2,
     "metadata": {},
     "output_type": "execute_result"
    }
   ],
   "source": [
    "salaries = pd.read_csv('Resources/salaries_06302020_high_school.csv')\n",
    "schools = pd.read_csv('Resources/School_Progress_Reports_SY1819_retention_rts.csv', encoding='iso-8859-1')\n",
    "combined_df = pd.merge(salaries, schools, on = \"School_ID\", how = \"left\")\n",
    "combined_df.columns.tolist()"
   ]
  },
  {
   "cell_type": "markdown",
   "metadata": {},
   "source": [
    "# Is performance different at Charter Schools?"
   ]
  },
  {
   "cell_type": "code",
   "execution_count": 3,
   "metadata": {},
   "outputs": [
    {
     "data": {
      "text/html": [
       "<div>\n",
       "<style scoped>\n",
       "    .dataframe tbody tr th:only-of-type {\n",
       "        vertical-align: middle;\n",
       "    }\n",
       "\n",
       "    .dataframe tbody tr th {\n",
       "        vertical-align: top;\n",
       "    }\n",
       "\n",
       "    .dataframe thead th {\n",
       "        text-align: right;\n",
       "    }\n",
       "</style>\n",
       "<table border=\"1\" class=\"dataframe\">\n",
       "  <thead>\n",
       "    <tr style=\"text-align: right;\">\n",
       "      <th></th>\n",
       "      <th>School_ID</th>\n",
       "      <th>Teacher_Retention</th>\n",
       "      <th>Short_Name</th>\n",
       "      <th>Long_Name</th>\n",
       "      <th>Primary_Category</th>\n",
       "      <th>Address</th>\n",
       "      <th>City</th>\n",
       "      <th>State</th>\n",
       "      <th>Zip</th>\n",
       "      <th>Phone</th>\n",
       "      <th>...</th>\n",
       "      <th>Attainment_SAT_Grade_11_School_Pct</th>\n",
       "      <th>Attainment_SAT_Grade_11_School_Lbl</th>\n",
       "      <th>Attainment_All_Grades_School_Pct</th>\n",
       "      <th>Attainment_All_Grades_School_Lbl</th>\n",
       "      <th>Growth_PSAT_Math_Grade_10_School_Pct</th>\n",
       "      <th>Growth_PSAT_Math_Grade_10_School_Lbl</th>\n",
       "      <th>Growth_SAT_Reading_Grade_11_School_Pct</th>\n",
       "      <th>Growth_SAT_Reading_Grade_11_School_Lbl</th>\n",
       "      <th>Growth_SAT_Math_Grade_11_School_Pct</th>\n",
       "      <th>Growth_SAT_Math_Grade_11_School_Lbl</th>\n",
       "    </tr>\n",
       "    <tr>\n",
       "      <th>School_Type</th>\n",
       "      <th></th>\n",
       "      <th></th>\n",
       "      <th></th>\n",
       "      <th></th>\n",
       "      <th></th>\n",
       "      <th></th>\n",
       "      <th></th>\n",
       "      <th></th>\n",
       "      <th></th>\n",
       "      <th></th>\n",
       "      <th></th>\n",
       "      <th></th>\n",
       "      <th></th>\n",
       "      <th></th>\n",
       "      <th></th>\n",
       "      <th></th>\n",
       "      <th></th>\n",
       "      <th></th>\n",
       "      <th></th>\n",
       "      <th></th>\n",
       "      <th></th>\n",
       "    </tr>\n",
       "  </thead>\n",
       "  <tbody>\n",
       "    <tr>\n",
       "      <th>Charter</th>\n",
       "      <td>65</td>\n",
       "      <td>55</td>\n",
       "      <td>65</td>\n",
       "      <td>65</td>\n",
       "      <td>65</td>\n",
       "      <td>65</td>\n",
       "      <td>65</td>\n",
       "      <td>65</td>\n",
       "      <td>65</td>\n",
       "      <td>65</td>\n",
       "      <td>...</td>\n",
       "      <td>60</td>\n",
       "      <td>60</td>\n",
       "      <td>63</td>\n",
       "      <td>63</td>\n",
       "      <td>41</td>\n",
       "      <td>41</td>\n",
       "      <td>41</td>\n",
       "      <td>41</td>\n",
       "      <td>41</td>\n",
       "      <td>41</td>\n",
       "    </tr>\n",
       "    <tr>\n",
       "      <th>Magnet</th>\n",
       "      <td>7</td>\n",
       "      <td>7</td>\n",
       "      <td>7</td>\n",
       "      <td>7</td>\n",
       "      <td>7</td>\n",
       "      <td>7</td>\n",
       "      <td>7</td>\n",
       "      <td>7</td>\n",
       "      <td>7</td>\n",
       "      <td>7</td>\n",
       "      <td>...</td>\n",
       "      <td>7</td>\n",
       "      <td>7</td>\n",
       "      <td>7</td>\n",
       "      <td>7</td>\n",
       "      <td>6</td>\n",
       "      <td>6</td>\n",
       "      <td>7</td>\n",
       "      <td>7</td>\n",
       "      <td>7</td>\n",
       "      <td>7</td>\n",
       "    </tr>\n",
       "    <tr>\n",
       "      <th>Neighborhood</th>\n",
       "      <td>46</td>\n",
       "      <td>44</td>\n",
       "      <td>46</td>\n",
       "      <td>46</td>\n",
       "      <td>46</td>\n",
       "      <td>46</td>\n",
       "      <td>46</td>\n",
       "      <td>46</td>\n",
       "      <td>46</td>\n",
       "      <td>46</td>\n",
       "      <td>...</td>\n",
       "      <td>44</td>\n",
       "      <td>44</td>\n",
       "      <td>45</td>\n",
       "      <td>45</td>\n",
       "      <td>45</td>\n",
       "      <td>45</td>\n",
       "      <td>44</td>\n",
       "      <td>44</td>\n",
       "      <td>44</td>\n",
       "      <td>44</td>\n",
       "    </tr>\n",
       "    <tr>\n",
       "      <th>Selective enrollment</th>\n",
       "      <td>11</td>\n",
       "      <td>11</td>\n",
       "      <td>11</td>\n",
       "      <td>11</td>\n",
       "      <td>11</td>\n",
       "      <td>11</td>\n",
       "      <td>11</td>\n",
       "      <td>11</td>\n",
       "      <td>11</td>\n",
       "      <td>11</td>\n",
       "      <td>...</td>\n",
       "      <td>11</td>\n",
       "      <td>11</td>\n",
       "      <td>11</td>\n",
       "      <td>11</td>\n",
       "      <td>11</td>\n",
       "      <td>11</td>\n",
       "      <td>11</td>\n",
       "      <td>11</td>\n",
       "      <td>11</td>\n",
       "      <td>11</td>\n",
       "    </tr>\n",
       "  </tbody>\n",
       "</table>\n",
       "<p>4 rows × 182 columns</p>\n",
       "</div>"
      ],
      "text/plain": [
       "                      School_ID  Teacher_Retention  Short_Name  Long_Name  \\\n",
       "School_Type                                                                 \n",
       "Charter                      65                 55          65         65   \n",
       "Magnet                        7                  7           7          7   \n",
       "Neighborhood                 46                 44          46         46   \n",
       "Selective enrollment         11                 11          11         11   \n",
       "\n",
       "                      Primary_Category  Address  City  State  Zip  Phone  ...  \\\n",
       "School_Type                                                               ...   \n",
       "Charter                             65       65    65     65   65     65  ...   \n",
       "Magnet                               7        7     7      7    7      7  ...   \n",
       "Neighborhood                        46       46    46     46   46     46  ...   \n",
       "Selective enrollment                11       11    11     11   11     11  ...   \n",
       "\n",
       "                      Attainment_SAT_Grade_11_School_Pct  \\\n",
       "School_Type                                                \n",
       "Charter                                               60   \n",
       "Magnet                                                 7   \n",
       "Neighborhood                                          44   \n",
       "Selective enrollment                                  11   \n",
       "\n",
       "                      Attainment_SAT_Grade_11_School_Lbl  \\\n",
       "School_Type                                                \n",
       "Charter                                               60   \n",
       "Magnet                                                 7   \n",
       "Neighborhood                                          44   \n",
       "Selective enrollment                                  11   \n",
       "\n",
       "                      Attainment_All_Grades_School_Pct  \\\n",
       "School_Type                                              \n",
       "Charter                                             63   \n",
       "Magnet                                               7   \n",
       "Neighborhood                                        45   \n",
       "Selective enrollment                                11   \n",
       "\n",
       "                      Attainment_All_Grades_School_Lbl  \\\n",
       "School_Type                                              \n",
       "Charter                                             63   \n",
       "Magnet                                               7   \n",
       "Neighborhood                                        45   \n",
       "Selective enrollment                                11   \n",
       "\n",
       "                      Growth_PSAT_Math_Grade_10_School_Pct  \\\n",
       "School_Type                                                  \n",
       "Charter                                                 41   \n",
       "Magnet                                                   6   \n",
       "Neighborhood                                            45   \n",
       "Selective enrollment                                    11   \n",
       "\n",
       "                      Growth_PSAT_Math_Grade_10_School_Lbl  \\\n",
       "School_Type                                                  \n",
       "Charter                                                 41   \n",
       "Magnet                                                   6   \n",
       "Neighborhood                                            45   \n",
       "Selective enrollment                                    11   \n",
       "\n",
       "                      Growth_SAT_Reading_Grade_11_School_Pct  \\\n",
       "School_Type                                                    \n",
       "Charter                                                   41   \n",
       "Magnet                                                     7   \n",
       "Neighborhood                                              44   \n",
       "Selective enrollment                                      11   \n",
       "\n",
       "                      Growth_SAT_Reading_Grade_11_School_Lbl  \\\n",
       "School_Type                                                    \n",
       "Charter                                                   41   \n",
       "Magnet                                                     7   \n",
       "Neighborhood                                              44   \n",
       "Selective enrollment                                      11   \n",
       "\n",
       "                      Growth_SAT_Math_Grade_11_School_Pct  \\\n",
       "School_Type                                                 \n",
       "Charter                                                41   \n",
       "Magnet                                                  7   \n",
       "Neighborhood                                           44   \n",
       "Selective enrollment                                   11   \n",
       "\n",
       "                      Growth_SAT_Math_Grade_11_School_Lbl  \n",
       "School_Type                                                \n",
       "Charter                                                41  \n",
       "Magnet                                                  7  \n",
       "Neighborhood                                           44  \n",
       "Selective enrollment                                   11  \n",
       "\n",
       "[4 rows x 182 columns]"
      ]
     },
     "execution_count": 3,
     "metadata": {},
     "output_type": "execute_result"
    }
   ],
   "source": [
    "schools.groupby(schools[\"School_Type\"]).count()"
   ]
  },
  {
   "cell_type": "code",
   "execution_count": null,
   "metadata": {},
   "outputs": [],
   "source": []
  },
  {
   "cell_type": "code",
   "execution_count": 28,
   "metadata": {},
   "outputs": [
    {
     "name": "stderr",
     "output_type": "stream",
     "text": [
      "<ipython-input-28-dc1c3deee581>:10: FutureWarning: Indexing with multiple keys (implicitly converted to a tuple of keys) will be deprecated, use a list instead.\n",
      "  Ret = One_df.groupby(One_df[\"School_Type\"])['Teacher_Retention', 'Attainment_SAT_Grade_11_School_Pct', 'Attainment_PSAT_Grade_10_School_Pct', 'Attainment_PSAT_Grade_9_School_Pct', 'Graduation_4_Year_School_Pct_Year_1', 'Graduation_4_Year_School_Pct_Year_2', 'Graduation_5_Year_School_Pct_Year_2', 'Graduation_5_Year_School_Pct_Year_1'].mean()\n"
     ]
    },
    {
     "data": {
      "text/html": [
       "<div>\n",
       "<style scoped>\n",
       "    .dataframe tbody tr th:only-of-type {\n",
       "        vertical-align: middle;\n",
       "    }\n",
       "\n",
       "    .dataframe tbody tr th {\n",
       "        vertical-align: top;\n",
       "    }\n",
       "\n",
       "    .dataframe thead th {\n",
       "        text-align: right;\n",
       "    }\n",
       "</style>\n",
       "<table border=\"1\" class=\"dataframe\">\n",
       "  <thead>\n",
       "    <tr style=\"text-align: right;\">\n",
       "      <th></th>\n",
       "      <th>Teacher_Retention</th>\n",
       "      <th>Attainment_SAT_Grade_11_School_Pct</th>\n",
       "      <th>Attainment_PSAT_Grade_10_School_Pct</th>\n",
       "      <th>Attainment_PSAT_Grade_9_School_Pct</th>\n",
       "      <th>Graduation_4_Year_School_Pct_Year_1</th>\n",
       "      <th>Graduation_4_Year_School_Pct_Year_2</th>\n",
       "      <th>Graduation_5_Year_School_Pct_Year_2</th>\n",
       "      <th>Graduation_5_Year_School_Pct_Year_1</th>\n",
       "    </tr>\n",
       "    <tr>\n",
       "      <th>School_Type</th>\n",
       "      <th></th>\n",
       "      <th></th>\n",
       "      <th></th>\n",
       "      <th></th>\n",
       "      <th></th>\n",
       "      <th></th>\n",
       "      <th></th>\n",
       "      <th></th>\n",
       "    </tr>\n",
       "  </thead>\n",
       "  <tbody>\n",
       "    <tr>\n",
       "      <th>Charter</th>\n",
       "      <td>0.453043</td>\n",
       "      <td>33.395652</td>\n",
       "      <td>41.626087</td>\n",
       "      <td>33.752174</td>\n",
       "      <td>78.043478</td>\n",
       "      <td>78.691304</td>\n",
       "      <td>81.456522</td>\n",
       "      <td>82.865217</td>\n",
       "    </tr>\n",
       "    <tr>\n",
       "      <th>Magnet</th>\n",
       "      <td>0.862500</td>\n",
       "      <td>36.475000</td>\n",
       "      <td>40.900000</td>\n",
       "      <td>42.475000</td>\n",
       "      <td>83.225000</td>\n",
       "      <td>80.100000</td>\n",
       "      <td>87.575000</td>\n",
       "      <td>83.950000</td>\n",
       "    </tr>\n",
       "    <tr>\n",
       "      <th>Neighborhood</th>\n",
       "      <td>0.844872</td>\n",
       "      <td>20.715385</td>\n",
       "      <td>25.584615</td>\n",
       "      <td>28.510256</td>\n",
       "      <td>67.987179</td>\n",
       "      <td>70.546154</td>\n",
       "      <td>72.153846</td>\n",
       "      <td>72.058974</td>\n",
       "    </tr>\n",
       "    <tr>\n",
       "      <th>Selective enrollment</th>\n",
       "      <td>0.913636</td>\n",
       "      <td>78.627273</td>\n",
       "      <td>85.418182</td>\n",
       "      <td>85.600000</td>\n",
       "      <td>92.854545</td>\n",
       "      <td>94.081818</td>\n",
       "      <td>94.772727</td>\n",
       "      <td>92.636364</td>\n",
       "    </tr>\n",
       "  </tbody>\n",
       "</table>\n",
       "</div>"
      ],
      "text/plain": [
       "                      Teacher_Retention  Attainment_SAT_Grade_11_School_Pct  \\\n",
       "School_Type                                                                   \n",
       "Charter                        0.453043                           33.395652   \n",
       "Magnet                         0.862500                           36.475000   \n",
       "Neighborhood                   0.844872                           20.715385   \n",
       "Selective enrollment           0.913636                           78.627273   \n",
       "\n",
       "                      Attainment_PSAT_Grade_10_School_Pct  \\\n",
       "School_Type                                                 \n",
       "Charter                                         41.626087   \n",
       "Magnet                                          40.900000   \n",
       "Neighborhood                                    25.584615   \n",
       "Selective enrollment                            85.418182   \n",
       "\n",
       "                      Attainment_PSAT_Grade_9_School_Pct  \\\n",
       "School_Type                                                \n",
       "Charter                                        33.752174   \n",
       "Magnet                                         42.475000   \n",
       "Neighborhood                                   28.510256   \n",
       "Selective enrollment                           85.600000   \n",
       "\n",
       "                      Graduation_4_Year_School_Pct_Year_1  \\\n",
       "School_Type                                                 \n",
       "Charter                                         78.043478   \n",
       "Magnet                                          83.225000   \n",
       "Neighborhood                                    67.987179   \n",
       "Selective enrollment                            92.854545   \n",
       "\n",
       "                      Graduation_4_Year_School_Pct_Year_2  \\\n",
       "School_Type                                                 \n",
       "Charter                                         78.691304   \n",
       "Magnet                                          80.100000   \n",
       "Neighborhood                                    70.546154   \n",
       "Selective enrollment                            94.081818   \n",
       "\n",
       "                      Graduation_5_Year_School_Pct_Year_2  \\\n",
       "School_Type                                                 \n",
       "Charter                                         81.456522   \n",
       "Magnet                                          87.575000   \n",
       "Neighborhood                                    72.153846   \n",
       "Selective enrollment                            94.772727   \n",
       "\n",
       "                      Graduation_5_Year_School_Pct_Year_1  \n",
       "School_Type                                                \n",
       "Charter                                         82.865217  \n",
       "Magnet                                          83.950000  \n",
       "Neighborhood                                    72.058974  \n",
       "Selective enrollment                            92.636364  "
      ]
     },
     "execution_count": 28,
     "metadata": {},
     "output_type": "execute_result"
    }
   ],
   "source": [
    "#Attainment / Grad / etc\n",
    "One_df = schools[[\"School_Type\", 'Long_Name', 'Growth_PSAT_Grade_9_School_Pct', 'Growth_PSAT_Reading_Grade_10_School_Pct', 'Growth_PSAT_Math_Grade_10_School_Pct','Growth_SAT_Grade_11_School_Pct','College_Enrollment_School_Pct_Year_1','College_Enrollment_School_Pct_Year_2', 'Teacher_Retention', 'Attainment_SAT_Grade_11_School_Pct', 'Attainment_PSAT_Grade_10_School_Pct', 'Attainment_PSAT_Grade_9_School_Pct', 'Graduation_4_Year_School_Pct_Year_1', 'Graduation_4_Year_School_Pct_Year_2', 'Graduation_5_Year_School_Pct_Year_2', 'Graduation_5_Year_School_Pct_Year_1']]\n",
    "One_df = One_df.dropna()\n",
    "One_df = One_df.loc[One_df[\"Teacher_Retention\"] != 'NAN']\n",
    "One_df['Teacher_Retention'] = pd.to_numeric(One_df['Teacher_Retention'])\n",
    "variables = ['Attainment_SAT_Grade_11_School_Pct', 'Attainment_PSAT_Grade_10_School_Pct', 'Attainment_PSAT_Grade_9_School_Pct', 'Graduation_4_Year_School_Pct_Year_1', 'Graduation_4_Year_School_Pct_Year_2', 'Graduation_5_Year_School_Pct_Year_2', 'Graduation_5_Year_School_Pct_Year_1','College_Enrollment_School_Pct_Year_1','College_Enrollment_School_Pct_Year_2']\n",
    "\n",
    "for var in variables:\n",
    "    One_df[var] = pd.to_numeric(One_df[var])\n",
    "Ret = One_df.groupby(One_df[\"School_Type\"])['Teacher_Retention', 'Attainment_SAT_Grade_11_School_Pct', 'Attainment_PSAT_Grade_10_School_Pct', 'Attainment_PSAT_Grade_9_School_Pct', 'Graduation_4_Year_School_Pct_Year_1', 'Graduation_4_Year_School_Pct_Year_2', 'Graduation_5_Year_School_Pct_Year_2', 'Graduation_5_Year_School_Pct_Year_1'].mean()\n",
    "Ret"
   ]
  },
  {
   "cell_type": "code",
   "execution_count": 29,
   "metadata": {},
   "outputs": [],
   "source": [
    "#partition data to creat df with only high school data\n",
    "high_school_data1 = schools.loc[(schools['Primary_Category']== \"HS\")]\n",
    "Charter_high = high_school_data1.loc[(high_school_data1['School_Type']== \"Charter\")]\n",
    "#partition data to creat df with only high school data\n",
    "Neighborhood_high = high_school_data1.loc[(high_school_data1['School_Type']== \"Neighborhood\")]"
   ]
  },
  {
   "cell_type": "markdown",
   "metadata": {},
   "source": [
    "## Is there a significant diference in teacher retention between Charter and Neighborhood schools?\n",
    "null hypthesis: mu1 -mu2 = 0 \n",
    "alternative hypothesis mu1-mu2 =/ 0"
   ]
  },
  {
   "cell_type": "code",
   "execution_count": 30,
   "metadata": {},
   "outputs": [
    {
     "name": "stdout",
     "output_type": "stream",
     "text": [
      "mu one is 0.844871794871795 and mu2 is 0.4530434782608695\n",
      "The confidence interval for Teacher Retention is from 0.615983390189514 and mu2 is 0.16767324303233697\n"
     ]
    }
   ],
   "source": [
    "#Constructing a confidence interval\n",
    "#separating by school type\n",
    "Neighborhood_high = One_df.loc[(One_df['School_Type']== \"Neighborhood\")]\n",
    "Charter_high = One_df.loc[(One_df['School_Type']== \"Charter\")]\n",
    "#finding necessary values\n",
    "mu1 = Neighborhood_high['Teacher_Retention'].mean()\n",
    "std1 = Neighborhood_high['Teacher_Retention'].std()\n",
    "n1 = Neighborhood_high['Teacher_Retention'].count()\n",
    "mu2 = Charter_high['Teacher_Retention'].mean()\n",
    "std2 = Charter_high['Teacher_Retention'].std()\n",
    "n2 = Charter_high['Teacher_Retention'].count()\n",
    "\n",
    "#the smaller of the two is the df\n",
    "df = min(n1-1, n2-1)\n",
    "\n",
    "t_crit = st.t.ppf(.95,df)\n",
    "t_crit\n",
    "\n",
    "Confidence_interval_ub = (mu1-mu2)+ t_crit * math.sqrt((std1/n1)+(std2/n2))\n",
    "Confidence_interval_lb = (mu1-mu2)- t_crit * math.sqrt((std1/n1)+(std2/n2))\n",
    "\n",
    "print(f'mu one is {mu1} and mu2 is {mu2}')\n",
    "print(f'The confidence interval for Teacher Retention is from {Confidence_interval_ub} and mu2 is {Confidence_interval_lb}')"
   ]
  },
  {
   "cell_type": "code",
   "execution_count": 7,
   "metadata": {},
   "outputs": [
    {
     "data": {
      "text/html": [
       "<div>\n",
       "<style scoped>\n",
       "    .dataframe tbody tr th:only-of-type {\n",
       "        vertical-align: middle;\n",
       "    }\n",
       "\n",
       "    .dataframe tbody tr th {\n",
       "        vertical-align: top;\n",
       "    }\n",
       "\n",
       "    .dataframe thead th {\n",
       "        text-align: right;\n",
       "    }\n",
       "</style>\n",
       "<table border=\"1\" class=\"dataframe\">\n",
       "  <thead>\n",
       "    <tr style=\"text-align: right;\">\n",
       "      <th></th>\n",
       "      <th>School_Type</th>\n",
       "      <th>Long_Name</th>\n",
       "      <th>College_Enrollment_School_Pct_Year_1</th>\n",
       "      <th>College_Enrollment_School_Pct_Year_2</th>\n",
       "      <th>Teacher_Retention</th>\n",
       "      <th>Attainment_SAT_Grade_11_School_Pct</th>\n",
       "      <th>Attainment_PSAT_Grade_10_School_Pct</th>\n",
       "      <th>Attainment_PSAT_Grade_9_School_Pct</th>\n",
       "      <th>Graduation_4_Year_School_Pct_Year_1</th>\n",
       "      <th>Graduation_4_Year_School_Pct_Year_2</th>\n",
       "      <th>Graduation_5_Year_School_Pct_Year_2</th>\n",
       "      <th>Graduation_5_Year_School_Pct_Year_1</th>\n",
       "    </tr>\n",
       "  </thead>\n",
       "  <tbody>\n",
       "    <tr>\n",
       "      <th>0</th>\n",
       "      <td>Charter</td>\n",
       "      <td>Acero Charter Schools - Major Hector P. Garcia MD</td>\n",
       "      <td>66.0</td>\n",
       "      <td>71.4</td>\n",
       "      <td>0.95</td>\n",
       "      <td>30.7</td>\n",
       "      <td>39.7</td>\n",
       "      <td>36.6</td>\n",
       "      <td>81.0</td>\n",
       "      <td>83.7</td>\n",
       "      <td>86.3</td>\n",
       "      <td>89.2</td>\n",
       "    </tr>\n",
       "    <tr>\n",
       "      <th>2</th>\n",
       "      <td>Selective enrollment</td>\n",
       "      <td>Albert G Lane Technical High School</td>\n",
       "      <td>86.9</td>\n",
       "      <td>92.6</td>\n",
       "      <td>0.94</td>\n",
       "      <td>97.2</td>\n",
       "      <td>97.9</td>\n",
       "      <td>98.5</td>\n",
       "      <td>95.7</td>\n",
       "      <td>95.1</td>\n",
       "      <td>96.5</td>\n",
       "      <td>95.5</td>\n",
       "    </tr>\n",
       "    <tr>\n",
       "      <th>7</th>\n",
       "      <td>Neighborhood</td>\n",
       "      <td>Benito Juarez Community Academy High School</td>\n",
       "      <td>52.2</td>\n",
       "      <td>62.8</td>\n",
       "      <td>0.91</td>\n",
       "      <td>11.6</td>\n",
       "      <td>19.6</td>\n",
       "      <td>26.1</td>\n",
       "      <td>79.7</td>\n",
       "      <td>78.5</td>\n",
       "      <td>82.8</td>\n",
       "      <td>78.6</td>\n",
       "    </tr>\n",
       "    <tr>\n",
       "      <th>8</th>\n",
       "      <td>Neighborhood</td>\n",
       "      <td>Carl Schurz High School</td>\n",
       "      <td>47.1</td>\n",
       "      <td>59.0</td>\n",
       "      <td>0.86</td>\n",
       "      <td>19.6</td>\n",
       "      <td>24.2</td>\n",
       "      <td>28.9</td>\n",
       "      <td>66.6</td>\n",
       "      <td>67.0</td>\n",
       "      <td>70.2</td>\n",
       "      <td>74.3</td>\n",
       "    </tr>\n",
       "    <tr>\n",
       "      <th>9</th>\n",
       "      <td>Neighborhood</td>\n",
       "      <td>Charles P Steinmetz College Preparatory HS</td>\n",
       "      <td>48.6</td>\n",
       "      <td>67.9</td>\n",
       "      <td>0.91</td>\n",
       "      <td>19.3</td>\n",
       "      <td>20.4</td>\n",
       "      <td>24.8</td>\n",
       "      <td>73.0</td>\n",
       "      <td>71.6</td>\n",
       "      <td>74.6</td>\n",
       "      <td>73.9</td>\n",
       "    </tr>\n",
       "    <tr>\n",
       "      <th>...</th>\n",
       "      <td>...</td>\n",
       "      <td>...</td>\n",
       "      <td>...</td>\n",
       "      <td>...</td>\n",
       "      <td>...</td>\n",
       "      <td>...</td>\n",
       "      <td>...</td>\n",
       "      <td>...</td>\n",
       "      <td>...</td>\n",
       "      <td>...</td>\n",
       "      <td>...</td>\n",
       "      <td>...</td>\n",
       "    </tr>\n",
       "    <tr>\n",
       "      <th>104</th>\n",
       "      <td>Selective enrollment</td>\n",
       "      <td>Whitney M Young Magnet High School</td>\n",
       "      <td>84.1</td>\n",
       "      <td>89.4</td>\n",
       "      <td>0.95</td>\n",
       "      <td>96.5</td>\n",
       "      <td>97.4</td>\n",
       "      <td>99.0</td>\n",
       "      <td>95.6</td>\n",
       "      <td>97.0</td>\n",
       "      <td>95.9</td>\n",
       "      <td>96.1</td>\n",
       "    </tr>\n",
       "    <tr>\n",
       "      <th>105</th>\n",
       "      <td>Neighborhood</td>\n",
       "      <td>William Howard Taft High School</td>\n",
       "      <td>66.4</td>\n",
       "      <td>78.5</td>\n",
       "      <td>0.95</td>\n",
       "      <td>45.6</td>\n",
       "      <td>59.3</td>\n",
       "      <td>63.1</td>\n",
       "      <td>83.0</td>\n",
       "      <td>80.4</td>\n",
       "      <td>85.8</td>\n",
       "      <td>87.2</td>\n",
       "    </tr>\n",
       "    <tr>\n",
       "      <th>106</th>\n",
       "      <td>Neighborhood</td>\n",
       "      <td>William J Bogan High School</td>\n",
       "      <td>47.7</td>\n",
       "      <td>58.1</td>\n",
       "      <td>0.80</td>\n",
       "      <td>8.5</td>\n",
       "      <td>20.9</td>\n",
       "      <td>12.7</td>\n",
       "      <td>66.9</td>\n",
       "      <td>73.7</td>\n",
       "      <td>81.4</td>\n",
       "      <td>71.4</td>\n",
       "    </tr>\n",
       "    <tr>\n",
       "      <th>107</th>\n",
       "      <td>Selective enrollment</td>\n",
       "      <td>William Jones College Preparatory High School</td>\n",
       "      <td>85.1</td>\n",
       "      <td>88.8</td>\n",
       "      <td>0.93</td>\n",
       "      <td>97.2</td>\n",
       "      <td>99.6</td>\n",
       "      <td>98.2</td>\n",
       "      <td>93.3</td>\n",
       "      <td>95.2</td>\n",
       "      <td>94.9</td>\n",
       "      <td>98.1</td>\n",
       "    </tr>\n",
       "    <tr>\n",
       "      <th>108</th>\n",
       "      <td>Neighborhood</td>\n",
       "      <td>William Rainey Harper High School</td>\n",
       "      <td>41.5</td>\n",
       "      <td>63.9</td>\n",
       "      <td>0.71</td>\n",
       "      <td>2.9</td>\n",
       "      <td>0.0</td>\n",
       "      <td>0.0</td>\n",
       "      <td>46.9</td>\n",
       "      <td>62.5</td>\n",
       "      <td>56.9</td>\n",
       "      <td>55.9</td>\n",
       "    </tr>\n",
       "  </tbody>\n",
       "</table>\n",
       "<p>79 rows × 12 columns</p>\n",
       "</div>"
      ],
      "text/plain": [
       "              School_Type                                          Long_Name  \\\n",
       "0                 Charter  Acero Charter Schools - Major Hector P. Garcia MD   \n",
       "2    Selective enrollment                Albert G Lane Technical High School   \n",
       "7            Neighborhood        Benito Juarez Community Academy High School   \n",
       "8            Neighborhood                            Carl Schurz High School   \n",
       "9            Neighborhood         Charles P Steinmetz College Preparatory HS   \n",
       "..                    ...                                                ...   \n",
       "104  Selective enrollment                 Whitney M Young Magnet High School   \n",
       "105          Neighborhood                    William Howard Taft High School   \n",
       "106          Neighborhood                        William J Bogan High School   \n",
       "107  Selective enrollment      William Jones College Preparatory High School   \n",
       "108          Neighborhood                  William Rainey Harper High School   \n",
       "\n",
       "     College_Enrollment_School_Pct_Year_1  \\\n",
       "0                                    66.0   \n",
       "2                                    86.9   \n",
       "7                                    52.2   \n",
       "8                                    47.1   \n",
       "9                                    48.6   \n",
       "..                                    ...   \n",
       "104                                  84.1   \n",
       "105                                  66.4   \n",
       "106                                  47.7   \n",
       "107                                  85.1   \n",
       "108                                  41.5   \n",
       "\n",
       "     College_Enrollment_School_Pct_Year_2  Teacher_Retention  \\\n",
       "0                                    71.4               0.95   \n",
       "2                                    92.6               0.94   \n",
       "7                                    62.8               0.91   \n",
       "8                                    59.0               0.86   \n",
       "9                                    67.9               0.91   \n",
       "..                                    ...                ...   \n",
       "104                                  89.4               0.95   \n",
       "105                                  78.5               0.95   \n",
       "106                                  58.1               0.80   \n",
       "107                                  88.8               0.93   \n",
       "108                                  63.9               0.71   \n",
       "\n",
       "     Attainment_SAT_Grade_11_School_Pct  Attainment_PSAT_Grade_10_School_Pct  \\\n",
       "0                                  30.7                                 39.7   \n",
       "2                                  97.2                                 97.9   \n",
       "7                                  11.6                                 19.6   \n",
       "8                                  19.6                                 24.2   \n",
       "9                                  19.3                                 20.4   \n",
       "..                                  ...                                  ...   \n",
       "104                                96.5                                 97.4   \n",
       "105                                45.6                                 59.3   \n",
       "106                                 8.5                                 20.9   \n",
       "107                                97.2                                 99.6   \n",
       "108                                 2.9                                  0.0   \n",
       "\n",
       "     Attainment_PSAT_Grade_9_School_Pct  Graduation_4_Year_School_Pct_Year_1  \\\n",
       "0                                  36.6                                 81.0   \n",
       "2                                  98.5                                 95.7   \n",
       "7                                  26.1                                 79.7   \n",
       "8                                  28.9                                 66.6   \n",
       "9                                  24.8                                 73.0   \n",
       "..                                  ...                                  ...   \n",
       "104                                99.0                                 95.6   \n",
       "105                                63.1                                 83.0   \n",
       "106                                12.7                                 66.9   \n",
       "107                                98.2                                 93.3   \n",
       "108                                 0.0                                 46.9   \n",
       "\n",
       "     Graduation_4_Year_School_Pct_Year_2  Graduation_5_Year_School_Pct_Year_2  \\\n",
       "0                                   83.7                                 86.3   \n",
       "2                                   95.1                                 96.5   \n",
       "7                                   78.5                                 82.8   \n",
       "8                                   67.0                                 70.2   \n",
       "9                                   71.6                                 74.6   \n",
       "..                                   ...                                  ...   \n",
       "104                                 97.0                                 95.9   \n",
       "105                                 80.4                                 85.8   \n",
       "106                                 73.7                                 81.4   \n",
       "107                                 95.2                                 94.9   \n",
       "108                                 62.5                                 56.9   \n",
       "\n",
       "     Graduation_5_Year_School_Pct_Year_1  \n",
       "0                                   89.2  \n",
       "2                                   95.5  \n",
       "7                                   78.6  \n",
       "8                                   74.3  \n",
       "9                                   73.9  \n",
       "..                                   ...  \n",
       "104                                 96.1  \n",
       "105                                 87.2  \n",
       "106                                 71.4  \n",
       "107                                 98.1  \n",
       "108                                 55.9  \n",
       "\n",
       "[79 rows x 12 columns]"
      ]
     },
     "execution_count": 7,
     "metadata": {},
     "output_type": "execute_result"
    }
   ],
   "source": [
    "One_df"
   ]
  },
  {
   "cell_type": "code",
   "execution_count": 31,
   "metadata": {},
   "outputs": [
    {
     "data": {
      "text/plain": [
       "20.715384615384615"
      ]
     },
     "execution_count": 31,
     "metadata": {},
     "output_type": "execute_result"
    }
   ],
   "source": [
    "One_df['Attainment_SAT_Grade_11_School_Pct'] = pd.to_numeric(One_df['Attainment_SAT_Grade_11_School_Pct'])\n",
    "Neighborhood_high = One_df.loc[(One_df['School_Type']== \"Neighborhood\")]\n",
    "mu1 = Neighborhood_high['Attainment_SAT_Grade_11_School_Pct'].mean()\n",
    "mu1\n"
   ]
  },
  {
   "cell_type": "code",
   "execution_count": 32,
   "metadata": {},
   "outputs": [
    {
     "name": "stdout",
     "output_type": "stream",
     "text": [
      "for Growth_PSAT_Grade_9_School_Pct mu1 is 39.666666666666664 and mu2 is 68.65217391304348\n",
      "The confidence interval for Growth_PSAT_Grade_9_School_Pct is from -26.522893081454527 to -31.448121411299113\n",
      "for Growth_PSAT_Reading_Grade_10_School_Pct mu1 is 68.56410256410257 and mu2 is 88.3913043478261\n",
      "The confidence interval for Growth_PSAT_Reading_Grade_10_School_Pct is from -18.204588380809213 to -21.449815186637835\n",
      "for Growth_PSAT_Math_Grade_10_School_Pct mu1 is 23.692307692307693 and mu2 is 47.82608695652174\n",
      "The confidence interval for Growth_PSAT_Math_Grade_10_School_Pct is from -22.072991108358984 to -26.194567420069113\n",
      "for Growth_SAT_Grade_11_School_Pct mu1 is 27.05128205128205 and mu2 is 68.95652173913044\n",
      "The confidence interval for Growth_SAT_Grade_11_School_Pct is from -39.52417103535019 to -44.28630834034658\n",
      "for Attainment_SAT_Grade_11_School_Pct mu1 is 20.715384615384615 and mu2 is 33.39565217391304\n",
      "The confidence interval for Attainment_SAT_Grade_11_School_Pct is from -10.593015216959397 to -14.767519900097458\n",
      "for Attainment_PSAT_Grade_10_School_Pct mu1 is 25.58461538461538 and mu2 is 41.62608695652174\n",
      "The confidence interval for Attainment_PSAT_Grade_10_School_Pct is from -13.946965758482998 to -18.135977385329724\n",
      "for Attainment_PSAT_Grade_9_School_Pct mu1 is 28.510256410256414 and mu2 is 33.752173913043485\n",
      "The confidence interval for Attainment_PSAT_Grade_9_School_Pct is from -3.2854834539893703 to -7.198351551584773\n",
      "for Graduation_4_Year_School_Pct_Year_1 mu1 is 67.98717948717946 and mu2 is 78.04347826086958\n",
      "The confidence interval for Graduation_4_Year_School_Pct_Year_1 is from -8.565904626112058 to -11.546692921268175\n",
      "for Graduation_4_Year_School_Pct_Year_2 mu1 is 70.54615384615383 and mu2 is 78.69130434782609\n",
      "The confidence interval for Graduation_4_Year_School_Pct_Year_2 is from -6.704187750800555 to -9.586113252543969\n",
      "for Graduation_5_Year_School_Pct_Year_2 mu1 is 72.15384615384616 and mu2 is 81.45652173913044\n",
      "The confidence interval for Graduation_5_Year_School_Pct_Year_2 is from -7.863147279804212 to -10.742203890764342\n",
      "for Graduation_5_Year_School_Pct_Year_1 mu1 is 72.05897435897434 and mu2 is 82.86521739130434\n",
      "The confidence interval for Graduation_5_Year_School_Pct_Year_1 is from -9.39443403969607 to -12.218052024963933\n",
      "for College_Enrollment_School_Pct_Year_1 mu1 is 53.50512820512821 and mu2 is 75.3826086956522\n",
      "The confidence interval for College_Enrollment_School_Pct_Year_1 is from -20.24363285350035 to -23.51132812754762\n",
      "for College_Enrollment_School_Pct_Year_2 mu1 is 62.81282051282051 and mu2 is 79.49565217391304\n",
      "The confidence interval for College_Enrollment_School_Pct_Year_2 is from -15.08303252815888 to -18.28263079402619\n"
     ]
    }
   ],
   "source": [
    "variables = ['Growth_PSAT_Grade_9_School_Pct', 'Growth_PSAT_Reading_Grade_10_School_Pct','Growth_PSAT_Math_Grade_10_School_Pct', 'Growth_SAT_Grade_11_School_Pct', 'Attainment_SAT_Grade_11_School_Pct', 'Attainment_PSAT_Grade_10_School_Pct', 'Attainment_PSAT_Grade_9_School_Pct', 'Graduation_4_Year_School_Pct_Year_1', 'Graduation_4_Year_School_Pct_Year_2', 'Graduation_5_Year_School_Pct_Year_2', 'Graduation_5_Year_School_Pct_Year_1','College_Enrollment_School_Pct_Year_1','College_Enrollment_School_Pct_Year_2']\n",
    "\n",
    "\n",
    "for var in variables: \n",
    "    mu1 = Neighborhood_high[var].mean()\n",
    "    std1 = Neighborhood_high[var].std()\n",
    "    n1 = Neighborhood_high[var].count()\n",
    "    mu2 = Charter_high[var].mean()\n",
    "    std2 = Charter_high[var].std()\n",
    "    n2 = Charter_high[var].count()\n",
    "\n",
    "    #the smaller of the two is the df\n",
    "    df = min(n1-1, n2-1)\n",
    "\n",
    "    t_crit = st.t.ppf(.95,df)\n",
    "    \n",
    "\n",
    "    Confidence_interval_ub = (mu1-mu2)+ t_crit * math.sqrt((std1/n1)+(std2/n2))\n",
    "    Confidence_interval_lb = (mu1-mu2)- t_crit * math.sqrt((std1/n1)+(std2/n2))\n",
    "\n",
    "    print(f'for {var} mu1 is {mu1} and mu2 is {mu2}')\n",
    "    print(f'The confidence interval for {var} is from {Confidence_interval_ub} to {Confidence_interval_lb}')\n",
    "\n",
    "#Keep line below"
   ]
  },
  {
   "cell_type": "code",
   "execution_count": 10,
   "metadata": {},
   "outputs": [],
   "source": [
    "\n"
   ]
  },
  {
   "cell_type": "code",
   "execution_count": 33,
   "metadata": {},
   "outputs": [
    {
     "name": "stdout",
     "output_type": "stream",
     "text": [
      "anova for Growth_PSAT_Grade_9_School_Pct is F_onewayResult(statistic=13.298462944898583, pvalue=0.0005572271801461254)\n",
      "anova for Growth_PSAT_Reading_Grade_10_School_Pct is F_onewayResult(statistic=27.959838163898223, pvalue=1.8280608471581803e-06)\n",
      "anova for Growth_PSAT_Math_Grade_10_School_Pct is F_onewayResult(statistic=24.50821127957191, pvalue=6.333755533621169e-06)\n",
      "anova for Growth_SAT_Grade_11_School_Pct is F_onewayResult(statistic=38.112095652490254, pvalue=6.292511118100102e-08)\n",
      "anova for Attainment_SAT_Grade_11_School_Pct is F_onewayResult(statistic=5.745039274157721, pvalue=0.019667153341529915)\n",
      "anova for Attainment_PSAT_Grade_10_School_Pct is F_onewayResult(statistic=8.352211156307629, pvalue=0.005354691394657638)\n",
      "anova for Attainment_PSAT_Grade_9_School_Pct is F_onewayResult(statistic=1.0171652077523146, pvalue=0.31724244926959705)\n",
      "anova for Graduation_4_Year_School_Pct_Year_1 is F_onewayResult(statistic=10.25873015423438, pvalue=0.002178333383983586)\n",
      "anova for Graduation_4_Year_School_Pct_Year_2 is F_onewayResult(statistic=7.324606780348357, pvalue=0.008843917907320793)\n",
      "anova for Graduation_5_Year_School_Pct_Year_2 is F_onewayResult(statistic=9.99310555789338, pvalue=0.002463620633065426)\n",
      "anova for Graduation_5_Year_School_Pct_Year_1 is F_onewayResult(statistic=13.761501692447917, pvalue=0.0004557565378673332)\n",
      "anova for College_Enrollment_School_Pct_Year_1 is F_onewayResult(statistic=41.62845677925302, pvalue=2.1348185814168383e-08)\n",
      "anova for College_Enrollment_School_Pct_Year_2 is F_onewayResult(statistic=25.66573146148237, pvalue=4.149603634533083e-06)\n"
     ]
    }
   ],
   "source": [
    "# Perform the ANOVA\n",
    "variables = ['Growth_PSAT_Grade_9_School_Pct', 'Growth_PSAT_Reading_Grade_10_School_Pct','Growth_PSAT_Math_Grade_10_School_Pct', 'Growth_SAT_Grade_11_School_Pct','Attainment_SAT_Grade_11_School_Pct', 'Attainment_PSAT_Grade_10_School_Pct', 'Attainment_PSAT_Grade_9_School_Pct', 'Graduation_4_Year_School_Pct_Year_1', 'Graduation_4_Year_School_Pct_Year_2', 'Graduation_5_Year_School_Pct_Year_2', 'Graduation_5_Year_School_Pct_Year_1','College_Enrollment_School_Pct_Year_1','College_Enrollment_School_Pct_Year_2']\n",
    "\n",
    "for var in variables:\n",
    "    group1 = Neighborhood_high[var]\n",
    "    group2 = Charter_high[var]\n",
    "    anova = st.f_oneway(group1, group2)\n",
    "    print(f'anova for {var} is {anova}')"
   ]
  },
  {
   "cell_type": "code",
   "execution_count": null,
   "metadata": {},
   "outputs": [],
   "source": []
  },
  {
   "cell_type": "code",
   "execution_count": null,
   "metadata": {},
   "outputs": [],
   "source": []
  },
  {
   "cell_type": "markdown",
   "metadata": {},
   "source": [
    "## Attainment in Neighborhood Schools v Salary\n",
    "Does Teacher Salary predict test scores?\n",
    "# Hypotheses\n",
    "Null Hypothesis: Teacher Salary will have no effect on Test Scores.\n",
    "Alternative Hypothesis: Teacher Salary doesn't have no effect on Test Scores."
   ]
  },
  {
   "cell_type": "code",
   "execution_count": 11,
   "metadata": {},
   "outputs": [
    {
     "name": "stdout",
     "output_type": "stream",
     "text": [
      "The correlation is 0.25529770106550764\n"
     ]
    },
    {
     "data": {
      "image/png": "[encoded data removed]",
      "text/plain": [
       "<Figure size 432x288 with 1 Axes>"
      ]
     },
     "metadata": {
      "needs_background": "light"
     },
     "output_type": "display_data"
    }
   ],
   "source": [
    "#11th Grade Data\n",
    "#Make 11th grade_df\n",
    "ele_df = combined_df[[ 'Department' , 'FTE Annual Salary', 'Attainment_SAT_Grade_11_School_Pct', ]]\n",
    "cleaned_df = ele_df.dropna()\n",
    "x_values = cleaned_df.groupby(cleaned_df['Department']).mean()['FTE Annual Salary']\n",
    "y_values = cleaned_df.groupby(cleaned_df['Department']).mean()['Attainment_SAT_Grade_11_School_Pct']\n",
    "plt.scatter(x_values, y_values)\n",
    "plt.xlabel('FTE Annual Salary')\n",
    "plt.ylabel('Attainment_SAT_Grade_11_School_Pct')\n",
    "plt.title('SAT v Salary')\n",
    "# Perform a linear regression on Annual Salary versus 11th Grade SAT Attainment\n",
    "vc_slope, vc_int, vc_r, vc_p, vc_std_err = st.linregress(x_values, y_values)\n",
    "# Create equation of line to calculate predicted 11th Grade SAT Attainment\n",
    "vc_fit = vc_slope * x_values + vc_int\n",
    "#plot regression line\n",
    "plt.plot(x_values,vc_fit,\"--\")\n",
    "\n",
    "correlation = st.pearsonr(x_values, y_values)\n",
    "print(f'The correlation is {correlation[0]}')"
   ]
  },
  {
   "cell_type": "code",
   "execution_count": 12,
   "metadata": {},
   "outputs": [
    {
     "name": "stdout",
     "output_type": "stream",
     "text": [
      "The correlation is 0.24210084279894326\n"
     ]
    },
    {
     "data": {
      "image/png": "[encoded data removed]",
      "text/plain": [
       "<Figure size 432x288 with 1 Axes>"
      ]
     },
     "metadata": {
      "needs_background": "light"
     },
     "output_type": "display_data"
    }
   ],
   "source": [
    "#10th Grade Data\n",
    "#Make 11th grade_df\n",
    "ele_df = combined_df[[ 'Department' , 'FTE Annual Salary', 'Attainment_PSAT_Grade_10_School_Pct']]\n",
    "cleaned_df = ele_df.dropna()\n",
    "x_values = cleaned_df.groupby(cleaned_df['Department']).mean()['FTE Annual Salary']\n",
    "y_values = cleaned_df.groupby(cleaned_df['Department']).mean()['Attainment_PSAT_Grade_10_School_Pct']\n",
    "plt.scatter(x_values, y_values)\n",
    "plt.xlabel('FTE Annual Salary')\n",
    "plt.ylabel('Attainment_PSAT_Grade_10_School_Pct')\n",
    "plt.title('PSAT v Salary')\n",
    "# Perform a linear regression on Annual Salary versus 11th Grade SAT Attainment\n",
    "vc_slope, vc_int, vc_r, vc_p, vc_std_err = st.linregress(x_values, y_values)\n",
    "# Create equation of line to calculate predicted 11th Grade SAT Attainment\n",
    "vc_fit = vc_slope * x_values + vc_int\n",
    "#plot regression line\n",
    "plt.plot(x_values,vc_fit,\"--\")\n",
    "\n",
    "correlation = st.pearsonr(x_values, y_values)\n",
    "print(f'The correlation is {correlation[0]}')"
   ]
  },
  {
   "cell_type": "code",
   "execution_count": 13,
   "metadata": {},
   "outputs": [
    {
     "name": "stdout",
     "output_type": "stream",
     "text": [
      "The correlation is 0.26631266450384394\n"
     ]
    },
    {
     "data": {
      "image/png": "[encoded data removed]",
      "text/plain": [
       "<Figure size 432x288 with 1 Axes>"
      ]
     },
     "metadata": {
      "needs_background": "light"
     },
     "output_type": "display_data"
    }
   ],
   "source": [
    "# 9th grade data\n",
    "ten_df = combined_df[[ 'Department' , 'FTE Annual Salary', 'Attainment_PSAT_Grade_9_School_Pct']]\n",
    "cleaned_df = ten_df.dropna()\n",
    "x_values = cleaned_df.groupby(cleaned_df['Department']).mean()['FTE Annual Salary']\n",
    "y_values = cleaned_df.groupby(cleaned_df['Department']).mean()['Attainment_PSAT_Grade_9_School_Pct']\n",
    "plt.scatter(x_values, y_values)\n",
    "plt.xlabel('FTE Annual Salary')\n",
    "plt.ylabel('Attainment_PSAT_Grade_9_School_Pct')\n",
    "plt.title('PSAT v Salary')\n",
    "# Perform a linear regression on Annual Salary versus 11th Grade SAT Attainment\n",
    "vc_slope, vc_int, vc_r, vc_p, vc_std_err = st.linregress(x_values, y_values)\n",
    "# Create equation of line to calculate predicted 11th Grade SAT Attainment\n",
    "vc_fit = vc_slope * x_values + vc_int\n",
    "#plot regression line\n",
    "plt.plot(x_values,vc_fit,\"--\")\n",
    "\n",
    "correlation = st.pearsonr(x_values, y_values)\n",
    "print(f'The correlation is {correlation[0]}')"
   ]
  },
  {
   "cell_type": "markdown",
   "metadata": {},
   "source": [
    "# Will teacher salaries predict college enrollment?"
   ]
  },
  {
   "cell_type": "code",
   "execution_count": 14,
   "metadata": {},
   "outputs": [
    {
     "name": "stdout",
     "output_type": "stream",
     "text": [
      "The correlation is 0.3339362189282251\n"
     ]
    },
    {
     "data": {
      "image/png": "[encoded data removed]",
      "text/plain": [
       "<Figure size 432x288 with 1 Axes>"
      ]
     },
     "metadata": {
      "needs_background": "light"
     },
     "output_type": "display_data"
    }
   ],
   "source": [
    "# 9th grade data\n",
    "ten_df = combined_df[[ 'Department' , 'FTE Annual Salary', 'College_Enrollment_School_Pct_Year_1']]\n",
    "cleaned_df = ten_df.dropna()\n",
    "x_values = cleaned_df.groupby(cleaned_df['Department']).mean()['FTE Annual Salary']\n",
    "y_values = cleaned_df.groupby(cleaned_df['Department']).mean()['College_Enrollment_School_Pct_Year_1']\n",
    "plt.scatter(x_values, y_values)\n",
    "plt.xlabel('FTE Annual Salary')\n",
    "plt.ylabel('College_Enrollment_School_Pct_Year_1')\n",
    "plt.title('PSAT v Salary')\n",
    "# Perform a linear regression on Annual Salary versus 11th Grade SAT Attainment\n",
    "vc_slope, vc_int, vc_r, vc_p, vc_std_err = st.linregress(x_values, y_values)\n",
    "# Create equation of line to calculate predicted 11th Grade SAT Attainment\n",
    "vc_fit = vc_slope * x_values + vc_int\n",
    "#plot regression line\n",
    "plt.plot(x_values,vc_fit,\"--\")\n",
    "\n",
    "correlation = st.pearsonr(x_values, y_values)\n",
    "print(f'The correlation is {correlation[0]}')"
   ]
  },
  {
   "cell_type": "code",
   "execution_count": 15,
   "metadata": {},
   "outputs": [
    {
     "name": "stdout",
     "output_type": "stream",
     "text": [
      "The correlation is 0.2739568014907354\n"
     ]
    },
    {
     "data": {
      "image/png": "[encoded data removed]",
      "text/plain": [
       "<Figure size 432x288 with 1 Axes>"
      ]
     },
     "metadata": {
      "needs_background": "light"
     },
     "output_type": "display_data"
    }
   ],
   "source": [
    "# 9th grade data\n",
    "ten_df = combined_df[[ 'Department' , 'FTE Annual Salary', 'College_Enrollment_School_Pct_Year_2']]\n",
    "cleaned_df = ten_df.dropna()\n",
    "x_values = cleaned_df.groupby(cleaned_df['Department']).mean()['FTE Annual Salary']\n",
    "y_values = cleaned_df.groupby(cleaned_df['Department']).mean()['College_Enrollment_School_Pct_Year_2']\n",
    "plt.scatter(x_values, y_values)\n",
    "plt.xlabel('FTE Annual Salary')\n",
    "plt.ylabel('College_Enrollment_School_Pct_Year_2')\n",
    "plt.title('PSAT v Salary')\n",
    "# Perform a linear regression on Annual Salary versus 11th Grade SAT Attainment\n",
    "vc_slope, vc_int, vc_r, vc_p, vc_std_err = st.linregress(x_values, y_values)\n",
    "# Create equation of line to calculate predicted 11th Grade SAT Attainment\n",
    "vc_fit = vc_slope * x_values + vc_int\n",
    "#plot regression line\n",
    "plt.plot(x_values,vc_fit,\"--\")\n",
    "\n",
    "correlation = st.pearsonr(x_values, y_values)\n",
    "print(f'The correlation is {correlation[0]}')"
   ]
  },
  {
   "cell_type": "markdown",
   "metadata": {},
   "source": [
    "# Will teacher salaries predict graduation rates?"
   ]
  },
  {
   "cell_type": "code",
   "execution_count": 16,
   "metadata": {},
   "outputs": [
    {
     "name": "stdout",
     "output_type": "stream",
     "text": [
      "The correlation is 0.3022533224046132\n"
     ]
    },
    {
     "data": {
      "image/png": "[encoded data removed]",
      "text/plain": [
       "<Figure size 432x288 with 1 Axes>"
      ]
     },
     "metadata": {
      "needs_background": "light"
     },
     "output_type": "display_data"
    }
   ],
   "source": [
    "ten_df = combined_df[[ 'Department' , 'FTE Annual Salary', 'Graduation_5_Year_School_Pct_Year_1']]\n",
    "cleaned_df = ten_df.dropna()\n",
    "x_values = cleaned_df.groupby(cleaned_df['Department']).mean()['FTE Annual Salary']\n",
    "y_values = cleaned_df.groupby(cleaned_df['Department']).mean()['Graduation_5_Year_School_Pct_Year_1']\n",
    "plt.scatter(x_values, y_values)\n",
    "plt.xlabel('FTE Annual Salary')\n",
    "plt.ylabel('Graduation_5_Year_School_Pct_Year_1')\n",
    "plt.title('PSAT v Salary')\n",
    "# Perform a linear regression on Annual Salary versus 11th Grade SAT Attainment\n",
    "vc_slope, vc_int, vc_r, vc_p, vc_std_err = st.linregress(x_values, y_values)\n",
    "# Create equation of line to calculate predicted 11th Grade SAT Attainment\n",
    "vc_fit = vc_slope * x_values + vc_int\n",
    "#plot regression line\n",
    "plt.plot(x_values,vc_fit,\"--\")\n",
    "\n",
    "correlation = st.pearsonr(x_values, y_values)\n",
    "print(f'The correlation is {correlation[0]}')"
   ]
  },
  {
   "cell_type": "code",
   "execution_count": 17,
   "metadata": {},
   "outputs": [
    {
     "name": "stdout",
     "output_type": "stream",
     "text": [
      "The correlation is 0.30676443567574885\n"
     ]
    },
    {
     "data": {
      "image/png": "[encoded data removed]",
      "text/plain": [
       "<Figure size 432x288 with 1 Axes>"
      ]
     },
     "metadata": {
      "needs_background": "light"
     },
     "output_type": "display_data"
    }
   ],
   "source": [
    "ten_df = combined_df[[ 'Department' , 'FTE Annual Salary', 'Graduation_4_Year_School_Pct_Year_1']]\n",
    "cleaned_df = ten_df.dropna()\n",
    "x_values = cleaned_df.groupby(cleaned_df['Department']).mean()['FTE Annual Salary']\n",
    "y_values = cleaned_df.groupby(cleaned_df['Department']).mean()['Graduation_4_Year_School_Pct_Year_1']\n",
    "plt.scatter(x_values, y_values)\n",
    "plt.xlabel('FTE Annual Salary')\n",
    "plt.ylabel('Graduation_4_Year_School_Pct_Year_1')\n",
    "plt.title('PSAT v Salary')\n",
    "# Perform a linear regression on Annual Salary versus 11th Grade SAT Attainment\n",
    "vc_slope, vc_int, vc_r, vc_p, vc_std_err = st.linregress(x_values, y_values)\n",
    "# Create equation of line to calculate predicted 11th Grade SAT Attainment\n",
    "vc_fit = vc_slope * x_values + vc_int\n",
    "#plot regression line\n",
    "plt.plot(x_values,vc_fit,\"--\")\n",
    "\n",
    "correlation = st.pearsonr(x_values, y_values)\n",
    "print(f'The correlation is {correlation[0]}')"
   ]
  },
  {
   "cell_type": "code",
   "execution_count": 18,
   "metadata": {},
   "outputs": [
    {
     "data": {
      "text/plain": [
       "547.1522529644268"
      ]
     },
     "execution_count": 18,
     "metadata": {},
     "output_type": "execute_result"
    }
   ],
   "source": [
    "Charter_high[\"Attainment_SAT_Grade_11_School_Pct\"].var()"
   ]
  },
  {
   "cell_type": "code",
   "execution_count": 19,
   "metadata": {},
   "outputs": [
    {
     "data": {
      "text/plain": [
       "33.39565217391304"
      ]
     },
     "execution_count": 19,
     "metadata": {},
     "output_type": "execute_result"
    }
   ],
   "source": [
    "Charter_high[\"Attainment_SAT_Grade_11_School_Pct\"].mean()"
   ]
  },
  {
   "cell_type": "code",
   "execution_count": 20,
   "metadata": {},
   "outputs": [
    {
     "data": {
      "text/plain": [
       "19.775609756097563"
      ]
     },
     "execution_count": 20,
     "metadata": {},
     "output_type": "execute_result"
    }
   ],
   "source": [
    "Neighborhood_high[\"Attainment_SAT_Grade_11_School_Pct\"].mean()"
   ]
  },
  {
   "cell_type": "code",
   "execution_count": 21,
   "metadata": {},
   "outputs": [
    {
     "ename": "NameError",
     "evalue": "name 'stats' is not defined",
     "output_type": "error",
     "traceback": [
      "\u001b[0;31m---------------------------------------------------------------------------\u001b[0m",
      "\u001b[0;31mNameError\u001b[0m                                 Traceback (most recent call last)",
      "\u001b[0;32m<ipython-input-21-3f2b901185e6>\u001b[0m in \u001b[0;36m<module>\u001b[0;34m\u001b[0m\n\u001b[0;32m----> 1\u001b[0;31m \u001b[0mcritical_value\u001b[0m \u001b[0;34m=\u001b[0m \u001b[0mstats\u001b[0m\u001b[0;34m.\u001b[0m\u001b[0mchi2\u001b[0m\u001b[0;34m.\u001b[0m\u001b[0mppf\u001b[0m\u001b[0;34m(\u001b[0m\u001b[0mq\u001b[0m \u001b[0;34m=\u001b[0m \u001b[0;36m0.95\u001b[0m\u001b[0;34m,\u001b[0m \u001b[0mdf\u001b[0m \u001b[0;34m=\u001b[0m \u001b[0;36m1\u001b[0m\u001b[0;34m)\u001b[0m\u001b[0;34m\u001b[0m\u001b[0;34m\u001b[0m\u001b[0m\n\u001b[0m\u001b[1;32m      2\u001b[0m \u001b[0mcritical_value\u001b[0m\u001b[0;34m\u001b[0m\u001b[0;34m\u001b[0m\u001b[0m\n",
      "\u001b[0;31mNameError\u001b[0m: name 'stats' is not defined"
     ]
    }
   ],
   "source": [
    "critical_value = stats.chi2.ppf(q = 0.95, df = 1)\n",
    "critical_value"
   ]
  },
  {
   "cell_type": "code",
   "execution_count": null,
   "metadata": {},
   "outputs": [],
   "source": [
    "# Run the chi square test with stats.chisquare()\n",
    "stats.chisquare(20.971,19.505)"
   ]
  },
  {
   "cell_type": "code",
   "execution_count": null,
   "metadata": {},
   "outputs": [],
   "source": [
    "Charter_high[\"Growth_SAT_Math_Grade_11_School_Pct\"].mean()"
   ]
  },
  {
   "cell_type": "code",
   "execution_count": null,
   "metadata": {},
   "outputs": [],
   "source": [
    "Neighborhood_high[\"Growth_SAT_Math_Grade_11_School_Pct\"].mean()"
   ]
  },
  {
   "cell_type": "code",
   "execution_count": null,
   "metadata": {},
   "outputs": [],
   "source": [
    "Neighborhood_high[\"Growth_SAT_Reading_Grade_11_School_Pct\"].mean()"
   ]
  },
  {
   "cell_type": "code",
   "execution_count": null,
   "metadata": {},
   "outputs": [],
   "source": [
    "Charter_high[\"Growth_SAT_Reading_Grade_11_School_Pct\"].mean()"
   ]
  },
  {
   "cell_type": "code",
   "execution_count": null,
   "metadata": {},
   "outputs": [],
   "source": []
  },
  {
   "cell_type": "code",
   "execution_count": null,
   "metadata": {},
   "outputs": [],
   "source": [
    "# # Start by getting the last (greatest) timepoint for each mouse\n",
    "# grouped_Max = drug_data.groupby('Mouse ID')\n",
    "# Maxes = grouped_Max['Timepoint'].max()\n",
    "# # Merge this group df with the original dataframe to get the tumor volume at the last timepoint\n",
    "# Max_Vol = pd.merge(Maxes, drug_data, on=['Mouse ID', 'Timepoint'], how='left')\n",
    "# Max_Vol"
   ]
  },
  {
   "cell_type": "code",
   "execution_count": null,
   "metadata": {},
   "outputs": [],
   "source": [
    "# Using GroupBy in order to separate the data into fields according to school name\n",
    "grouped2school_school_df = combined062020_df.groupby(['School_ID', 'Long_Name', 'Job Title'])\n",
    "# The object returned is a \"GroupBy\" object and cannot be viewed normally...\n",
    "print(grouped2school_school_df)\n",
    "# In order to be visualized, a data function must be used...\n",
    "grouped2school_school_df.count()"
   ]
  },
  {
   "cell_type": "code",
   "execution_count": null,
   "metadata": {},
   "outputs": [],
   "source": []
  },
  {
   "cell_type": "code",
   "execution_count": null,
   "metadata": {},
   "outputs": [],
   "source": []
  }
 ],
 "metadata": {
  "kernelspec": {
   "display_name": "Python 3",
   "language": "python",
   "name": "python3"
  },
  "language_info": {
   "codemirror_mode": {
    "name": "ipython",
    "version": 3
   },
   "file_extension": ".py",
   "mimetype": "text/x-python",
   "name": "python",
   "nbconvert_exporter": "python",
   "pygments_lexer": "ipython3",
   "version": "3.8.3"
  }
 },
 "nbformat": 4,
 "nbformat_minor": 4
}
