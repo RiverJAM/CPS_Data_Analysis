{
 "cells": [
  {
   "cell_type": "code",
   "execution_count": 1,
   "metadata": {},
   "outputs": [],
   "source": [
    "import pandas as pd\n",
    "import numpy as np\n",
    "import scipy.stats as stats"
   ]
  },
  {
   "cell_type": "code",
   "execution_count": 2,
   "metadata": {},
   "outputs": [],
   "source": [
    "school_data_tofind = \"Resources/Chicago_Public_Schools_-_School_Progress_Reports_SY1819.csv\"\n",
    "school_data_tofind2 = \"Resources/Chicago_Public_Schools_-_School_Admissions_Information_SY1819.csv\"\n",
    "school_data_tofind3 = \"Resources/employeepositionroster_09302018.csv\"\n",
    "school_data_tofind4 = \"Resources/employeepositionroster_09302019.csv\""
   ]
  },
  {
   "cell_type": "code",
   "execution_count": 3,
   "metadata": {},
   "outputs": [],
   "source": [
    "school_data1 = pd.read_csv(school_data_tofind)\n",
    "school_data2 = pd.read_csv(school_data_tofind2)\n",
    "school_data3 = pd.read_csv(school_data_tofind3)\n",
    "school_data4 = pd.read_csv(school_data_tofind4)"
   ]
  },
  {
   "cell_type": "code",
   "execution_count": 6,
   "metadata": {},
   "outputs": [],
   "source": [
    "#partition data to creat df with only high school data\n",
    "high_school_data1 = school_data1.loc[(school_data1['Primary_Category']== \"HS\")]\n",
    "Charter_high = high_school_data1.loc[(high_school_data1['School_Type']== \"Charter\")]\n",
    "#partition data to creat df with only high school data\n",
    "Neighborhood_high = high_school_data1.loc[(high_school_data1['School_Type']== \"Neighborhood\")]\n"
   ]
  },
  {
   "cell_type": "code",
   "execution_count": 7,
   "metadata": {},
   "outputs": [
    {
     "data": {
      "text/plain": [
       "20.971666666666668"
      ]
     },
     "execution_count": 7,
     "metadata": {},
     "output_type": "execute_result"
    }
   ],
   "source": [
    "Charter_high[\"Attainment_SAT_Grade_11_School_Pct\"].mean()"
   ]
  },
  {
   "cell_type": "code",
   "execution_count": 8,
   "metadata": {},
   "outputs": [
    {
     "data": {
      "text/plain": [
       "19.504545454545454"
      ]
     },
     "execution_count": 8,
     "metadata": {},
     "output_type": "execute_result"
    }
   ],
   "source": [
    "Neighborhood_high[\"Attainment_SAT_Grade_11_School_Pct\"].mean()"
   ]
  },
  {
   "cell_type": "code",
   "execution_count": 9,
   "metadata": {},
   "outputs": [
    {
     "data": {
      "text/plain": [
       "61.853658536585364"
      ]
     },
     "execution_count": 9,
     "metadata": {},
     "output_type": "execute_result"
    }
   ],
   "source": [
    "Charter_high[\"Growth_SAT_Math_Grade_11_School_Pct\"].mean()"
   ]
  },
  {
   "cell_type": "code",
   "execution_count": 10,
   "metadata": {},
   "outputs": [
    {
     "data": {
      "text/plain": [
       "51.22727272727273"
      ]
     },
     "execution_count": 10,
     "metadata": {},
     "output_type": "execute_result"
    }
   ],
   "source": [
    "Neighborhood_high[\"Growth_SAT_Math_Grade_11_School_Pct\"].mean()"
   ]
  },
  {
   "cell_type": "code",
   "execution_count": 11,
   "metadata": {},
   "outputs": [
    {
     "data": {
      "text/plain": [
       "47.06818181818182"
      ]
     },
     "execution_count": 11,
     "metadata": {},
     "output_type": "execute_result"
    }
   ],
   "source": [
    "Neighborhood_high[\"Growth_SAT_Reading_Grade_11_School_Pct\"].mean()"
   ]
  },
  {
   "cell_type": "code",
   "execution_count": 12,
   "metadata": {},
   "outputs": [
    {
     "data": {
      "text/plain": [
       "45.31707317073171"
      ]
     },
     "execution_count": 12,
     "metadata": {},
     "output_type": "execute_result"
    }
   ],
   "source": [
    "Charter_high[\"Growth_SAT_Reading_Grade_11_School_Pct\"].mean()"
   ]
  },
  {
   "cell_type": "code",
   "execution_count": null,
   "metadata": {},
   "outputs": [],
   "source": []
  }
 ],
 "metadata": {
  "kernelspec": {
   "display_name": "Python 3",
   "language": "python",
   "name": "python3"
  },
  "language_info": {
   "codemirror_mode": {
    "name": "ipython",
    "version": 3
   },
   "file_extension": ".py",
   "mimetype": "text/x-python",
   "name": "python",
   "nbconvert_exporter": "python",
   "pygments_lexer": "ipython3",
   "version": "3.8.3"
  }
 },
 "nbformat": 4,
 "nbformat_minor": 4
}
